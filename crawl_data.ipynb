{
 "cells": [
  {
   "cell_type": "markdown",
   "metadata": {},
   "source": [
    "# Crawl data bất động sản ở đà nẵng\n",
    "\n",
    "Link: https://batdongsan.com.vn/nha-dat-ban-da-nang/\n"
   ]
  },
  {
   "cell_type": "markdown",
   "metadata": {},
   "source": [
    "Import thư viện.\n"
   ]
  },
  {
   "cell_type": "code",
   "execution_count": null,
   "metadata": {},
   "outputs": [],
   "source": [
    "from selenium import webdriver\n",
    "from webdriver_manager.chrome import ChromeDriverManager\n",
    "from selenium.webdriver.common.by import By\n",
    "from selenium.webdriver.chrome.options import Options\n",
    "\n",
    "import csv\n"
   ]
  },
  {
   "cell_type": "markdown",
   "metadata": {},
   "source": [
    "Hàm tiền xử lí diện tích, bỏ đơn vị m² ra khỏi trường diện tích.\n"
   ]
  },
  {
   "cell_type": "code",
   "execution_count": null,
   "metadata": {},
   "outputs": [],
   "source": [
    "def handleArea(s: str):\n",
    "    try:\n",
    "        if s != '':\n",
    "            return s.split(' ')[0]\n",
    "        return s\n",
    "    except:\n",
    "        return ''\n"
   ]
  },
  {
   "cell_type": "markdown",
   "metadata": {},
   "source": [
    "Hàm tiền xử lí loại bất động sản.\n"
   ]
  },
  {
   "cell_type": "code",
   "execution_count": null,
   "metadata": {},
   "outputs": [],
   "source": [
    "def handleType(s: str):\n",
    "    try:\n",
    "        return s.replace('Loại tin đăng: ', '')\n",
    "    except:\n",
    "        return ''\n"
   ]
  },
  {
   "cell_type": "markdown",
   "metadata": {},
   "source": [
    "Hàm tiền xử lí địa chỉ, chỉ lấy địa chỉ phường/xã và quận/huyện.\n"
   ]
  },
  {
   "cell_type": "code",
   "execution_count": null,
   "metadata": {},
   "outputs": [],
   "source": [
    "def handleAddress(s: str):\n",
    "    result = \"\"\n",
    "    if s.find(',') > 1:\n",
    "        try:\n",
    "            arr = s.split(',')\n",
    "            for item in arr:\n",
    "                if item.find('Phường') != -1 or item.find('Xã') != -1:\n",
    "                    result += item.lstrip().rstrip() + \", \"\n",
    "            return result + arr[-2]\n",
    "        except:\n",
    "            return result\n",
    "    else:\n",
    "        return result\n"
   ]
  },
  {
   "cell_type": "markdown",
   "metadata": {},
   "source": [
    "Hàm tiền xử lí giá, chuyển số tiền từ dạng chữ (100 triệu) sang dạng số (100) và xử lí giá không hợp lệ (Thỏa thuận).\n"
   ]
  },
  {
   "cell_type": "code",
   "execution_count": null,
   "metadata": {},
   "outputs": [],
   "source": [
    "def handlePrice(price: str, area: str):\n",
    "    result = ''\n",
    "    try:\n",
    "        if price != 'Thỏa thuận':\n",
    "            if price.find('m²') != -1:\n",
    "                result = str(float(price.split(' ')[0]) * float(area))\n",
    "            elif price.find('tỷ') != -1:\n",
    "                result = str(float(price.split(' ')[0]) * 1000)\n",
    "            else:\n",
    "                result = str(float(price.split(' ')[0]))\n",
    "    except:\n",
    "        pass\n",
    "    return result\n"
   ]
  },
  {
   "cell_type": "markdown",
   "metadata": {},
   "source": [
    "Hàm ghi data crawl vào csv."
   ]
  },
  {
   "cell_type": "code",
   "execution_count": null,
   "metadata": {},
   "outputs": [],
   "source": [
    "def write_csv(row, file_name):\n",
    "    with open(file_name, mode='a', newline='', encoding='utf-8-sig') as outfile:\n",
    "        writer = csv.writer(outfile, delimiter=',',\n",
    "                            quotechar='\"', quoting=csv.QUOTE_MINIMAL)\n",
    "        writer.writerow(row)\n"
   ]
  },
  {
   "cell_type": "markdown",
   "metadata": {},
   "source": [
    "Tên của các file csv đầu ra.\n"
   ]
  },
  {
   "cell_type": "code",
   "execution_count": null,
   "metadata": {},
   "outputs": [],
   "source": [
    "name_csv_raw = 'raw_data.csv'\n",
    "name_csv_cleaned = 'cleaned_data.csv'\n",
    "write_csv(['Title', 'Address', 'Type', 'Area', 'Price'], name_csv_raw)\n",
    "write_csv(['Title', 'Address', 'Type', 'Area', 'Price'], name_csv_cleaned)\n"
   ]
  },
  {
   "cell_type": "markdown",
   "metadata": {},
   "source": [
    "Số trang data muốn cào ở base_url."
   ]
  },
  {
   "cell_type": "code",
   "execution_count": null,
   "metadata": {},
   "outputs": [],
   "source": [
    "num_of_page = 100\n",
    "base_url = \"https://batdongsan.com.vn/nha-dat-ban-da-nang/\"\n"
   ]
  },
  {
   "cell_type": "markdown",
   "metadata": {},
   "source": [
    "Thêm option để selenium crawl data chạy ngầm mà không bật lên cửa sổ trình duyệt.\n"
   ]
  },
  {
   "cell_type": "code",
   "execution_count": null,
   "metadata": {},
   "outputs": [],
   "source": [
    "options = Options()\n",
    "options.add_argument('--headless')\n",
    "options.add_argument(\n",
    "    'user-agent=\"Mozilla/5.0 (Macintosh; Intel Mac OS X 10_14_4) AppleWebKit/537.36 (KHTML, like Gecko) Chrome/73.0.3683.103 Safari/537.36\"')\n"
   ]
  },
  {
   "cell_type": "markdown",
   "metadata": {},
   "source": [
    "Bắt đầu crawl data.\n"
   ]
  },
  {
   "cell_type": "code",
   "execution_count": null,
   "metadata": {},
   "outputs": [],
   "source": [
    "for i in range(1, num_of_page + 1):\n",
    "    print('Trang số', str(i))\n",
    "    driver = webdriver.Chrome(\n",
    "        ChromeDriverManager().install(), options=options)\n",
    "    driver.get(base_url + \"p\" + str(i))\n",
    "\n",
    "    elements = driver.find_elements(\n",
    "        by=By.CSS_SELECTOR, value=\".js__product-link-for-product-id\")\n",
    "    links = [el.get_attribute('href') for el in elements]\n",
    "\n",
    "    for link in links:\n",
    "        driver_detail = webdriver.Chrome(\n",
    "            ChromeDriverManager().install(), options=options)\n",
    "        driver_detail.get(link)\n",
    "        title_detail = driver_detail.find_element(\n",
    "            By.CLASS_NAME, \"pr-title\").get_attribute('textContent')\n",
    "        address_detail = driver_detail.find_element(\n",
    "            By.CLASS_NAME, \"re__pr-short-description\").get_attribute('textContent')\n",
    "        type_detail = driver_detail.find_element(\n",
    "            By.CLASS_NAME, \"re__pr-specs-product-type\").get_attribute('textContent')\n",
    "        area_detail = \"\"\n",
    "        price_detail = \"\"\n",
    "\n",
    "        t1 = driver_detail.find_elements(\n",
    "            by=By.CSS_SELECTOR, value=\".re__pr-short-info > .re__pr-short-info-item > .title\")\n",
    "        t2 = driver_detail.find_elements(\n",
    "            by=By.CSS_SELECTOR, value=\".re__pr-short-info > .re__pr-short-info-item > .value\")\n",
    "        temp1 = [el.text for el in t1]\n",
    "        temp2 = [el.text for el in t2]\n",
    "        for _ in range(len(temp1)):\n",
    "            if temp1[_] == 'Mức giá':\n",
    "                price_detail = temp2[_]\n",
    "            elif temp1[_] == 'Diện tích':\n",
    "                area_detail = temp2[_]\n",
    "        write_csv([title_detail, address_detail,\n",
    "                   type_detail, area_detail, price_detail], name_csv_raw)\n",
    "\n",
    "        area_detail = handleArea(area_detail)\n",
    "        price_detail = handlePrice(price_detail, area_detail)\n",
    "        write_csv([title_detail, handleAddress(address_detail),\n",
    "                   handleType(type_detail), area_detail, price_detail], name_csv_cleaned)\n",
    "        driver_detail.close()\n",
    "\n",
    "    driver.close()\n"
   ]
  }
 ],
 "metadata": {
  "language_info": {
   "name": "python"
  },
  "orig_nbformat": 4
 },
 "nbformat": 4,
 "nbformat_minor": 2
}
