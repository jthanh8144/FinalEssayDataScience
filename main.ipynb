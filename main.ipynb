{
 "cells": [
  {
   "cell_type": "markdown",
   "metadata": {},
   "source": [
    "Import thư viện\n"
   ]
  },
  {
   "cell_type": "code",
   "execution_count": 463,
   "metadata": {},
   "outputs": [],
   "source": [
    "import warnings\n",
    "from IPython.display import display\n",
    "import numpy as np\n",
    "import pandas as pd\n",
    "from pandas import DataFrame, Series\n",
    "import matplotlib.pyplot as plt\n",
    "import seaborn as sns\n",
    "from sklearn.model_selection import train_test_split\n",
    "from sklearn.preprocessing import MinMaxScaler\n",
    "import operator\n",
    "\n",
    "from sklearn.linear_model import LinearRegression\n",
    "from sklearn.svm import SVR\n",
    "from sklearn.ensemble import AdaBoostRegressor, GradientBoostingRegressor, RandomForestRegressor\n",
    "from sklearn.metrics import mean_squared_error\n",
    "from sklearn.model_selection import RandomizedSearchCV\n",
    "import plotly.express as px\n",
    "import random\n",
    "\n",
    "warnings.filterwarnings('ignore')\n",
    "plt.rcParams['figure.facecolor'] = 'white'\n"
   ]
  },
  {
   "cell_type": "markdown",
   "metadata": {},
   "source": [
    "# Feature engineer"
   ]
  },
  {
   "cell_type": "code",
   "execution_count": 464,
   "metadata": {},
   "outputs": [
    {
     "data": {
      "text/html": [
       "<div>\n",
       "<style scoped>\n",
       "    .dataframe tbody tr th:only-of-type {\n",
       "        vertical-align: middle;\n",
       "    }\n",
       "\n",
       "    .dataframe tbody tr th {\n",
       "        vertical-align: top;\n",
       "    }\n",
       "\n",
       "    .dataframe thead th {\n",
       "        text-align: right;\n",
       "    }\n",
       "</style>\n",
       "<table border=\"1\" class=\"dataframe\">\n",
       "  <thead>\n",
       "    <tr style=\"text-align: right;\">\n",
       "      <th></th>\n",
       "      <th>Title</th>\n",
       "      <th>Address</th>\n",
       "      <th>Type</th>\n",
       "      <th>Area</th>\n",
       "      <th>Price</th>\n",
       "    </tr>\n",
       "  </thead>\n",
       "  <tbody>\n",
       "    <tr>\n",
       "      <th>0</th>\n",
       "      <td>Biệt thự Sunneva Island, vị trí ngã ba sông H...</td>\n",
       "      <td>Phường Hòa Quý,  Ngũ Hành Sơn</td>\n",
       "      <td>Bán nhà biệt thự, liền kề</td>\n",
       "      <td>240.0</td>\n",
       "      <td>36000.0</td>\n",
       "    </tr>\n",
       "    <tr>\n",
       "      <th>1</th>\n",
       "      <td>Ra mắt siêu phẩm Sunneva Island - biệt thự đả...</td>\n",
       "      <td>Phường Hòa Quý,  Ngũ Hành Sơn</td>\n",
       "      <td>Bán nhà biệt thự, liền kề</td>\n",
       "      <td>300.0</td>\n",
       "      <td>NaN</td>\n",
       "    </tr>\n",
       "    <tr>\n",
       "      <th>2</th>\n",
       "      <td>Độc nhất vô nhị - Biệt thự đảo kim cương - Đô...</td>\n",
       "      <td>Phường Hòa Quý,  Ngũ Hành Sơn</td>\n",
       "      <td>Bán nhà biệt thự, liền kề</td>\n",
       "      <td>300.0</td>\n",
       "      <td>45000.0</td>\n",
       "    </tr>\n",
       "    <tr>\n",
       "      <th>3</th>\n",
       "      <td>Chính chủ bán căn hộ Dual Key Tầng 16 dự án T...</td>\n",
       "      <td>Phường Phước Mỹ,  Sơn Trà</td>\n",
       "      <td>Bán căn hộ chung cư</td>\n",
       "      <td>120.0</td>\n",
       "      <td>NaN</td>\n",
       "    </tr>\n",
       "    <tr>\n",
       "      <th>4</th>\n",
       "      <td>Sunneva Island - biệt thự đảo xanh - vùng đất...</td>\n",
       "      <td>Phường Hòa Quý,  Ngũ Hành Sơn</td>\n",
       "      <td>Bán nhà biệt thự, liền kề</td>\n",
       "      <td>240.0</td>\n",
       "      <td>21120.0</td>\n",
       "    </tr>\n",
       "    <tr>\n",
       "      <th>...</th>\n",
       "      <td>...</td>\n",
       "      <td>...</td>\n",
       "      <td>...</td>\n",
       "      <td>...</td>\n",
       "      <td>...</td>\n",
       "    </tr>\n",
       "    <tr>\n",
       "      <th>1995</th>\n",
       "      <td>Chính chủ bán gấp căn Pavilon mặt tiền phố đi...</td>\n",
       "      <td>Hải Châu</td>\n",
       "      <td>Bán shophouse, nhà phố thương mại</td>\n",
       "      <td>120.0</td>\n",
       "      <td>18500.0</td>\n",
       "    </tr>\n",
       "    <tr>\n",
       "      <th>1996</th>\n",
       "      <td>Bán đất đường Hoàng Hiệp hướng đông nam gần P...</td>\n",
       "      <td>Phường Hòa Xuân,  Cẩm Lệ</td>\n",
       "      <td>Bán đất</td>\n",
       "      <td>100.0</td>\n",
       "      <td>4000.0</td>\n",
       "    </tr>\n",
       "    <tr>\n",
       "      <th>1997</th>\n",
       "      <td>Mở bán Felicia Ocenview Apart căn hộ mặt biển...</td>\n",
       "      <td>Ngũ Hành Sơn</td>\n",
       "      <td>Bán condotel</td>\n",
       "      <td>50.0</td>\n",
       "      <td>2950.0</td>\n",
       "    </tr>\n",
       "    <tr>\n",
       "      <th>1998</th>\n",
       "      <td>Bán Gấp Lô Đất Khủng. Kiệt Otto Thái Thị Bôi</td>\n",
       "      <td>Phường Tân Chính,  Thanh Khê</td>\n",
       "      <td>Bán đất</td>\n",
       "      <td>158.0</td>\n",
       "      <td>4450.0</td>\n",
       "    </tr>\n",
       "    <tr>\n",
       "      <th>1999</th>\n",
       "      <td>Bán lô biệt thự 150m2 ngang 7,5m MT Trương Mi...</td>\n",
       "      <td>Phường Hòa Hải,  Ngũ Hành Sơn</td>\n",
       "      <td>Bán đất nền dự án</td>\n",
       "      <td>150.0</td>\n",
       "      <td>4700.0</td>\n",
       "    </tr>\n",
       "  </tbody>\n",
       "</table>\n",
       "<p>2000 rows × 5 columns</p>\n",
       "</div>"
      ],
      "text/plain": [
       "                                                  Title  \\\n",
       "0      Biệt thự Sunneva Island, vị trí ngã ba sông H...   \n",
       "1      Ra mắt siêu phẩm Sunneva Island - biệt thự đả...   \n",
       "2      Độc nhất vô nhị - Biệt thự đảo kim cương - Đô...   \n",
       "3      Chính chủ bán căn hộ Dual Key Tầng 16 dự án T...   \n",
       "4      Sunneva Island - biệt thự đảo xanh - vùng đất...   \n",
       "...                                                 ...   \n",
       "1995   Chính chủ bán gấp căn Pavilon mặt tiền phố đi...   \n",
       "1996   Bán đất đường Hoàng Hiệp hướng đông nam gần P...   \n",
       "1997   Mở bán Felicia Ocenview Apart căn hộ mặt biển...   \n",
       "1998       Bán Gấp Lô Đất Khủng. Kiệt Otto Thái Thị Bôi   \n",
       "1999   Bán lô biệt thự 150m2 ngang 7,5m MT Trương Mi...   \n",
       "\n",
       "                            Address                               Type   Area  \\\n",
       "0     Phường Hòa Quý,  Ngũ Hành Sơn          Bán nhà biệt thự, liền kề  240.0   \n",
       "1     Phường Hòa Quý,  Ngũ Hành Sơn          Bán nhà biệt thự, liền kề  300.0   \n",
       "2     Phường Hòa Quý,  Ngũ Hành Sơn          Bán nhà biệt thự, liền kề  300.0   \n",
       "3         Phường Phước Mỹ,  Sơn Trà                Bán căn hộ chung cư  120.0   \n",
       "4     Phường Hòa Quý,  Ngũ Hành Sơn          Bán nhà biệt thự, liền kề  240.0   \n",
       "...                             ...                                ...    ...   \n",
       "1995                       Hải Châu  Bán shophouse, nhà phố thương mại  120.0   \n",
       "1996       Phường Hòa Xuân,  Cẩm Lệ                            Bán đất  100.0   \n",
       "1997                   Ngũ Hành Sơn                       Bán condotel   50.0   \n",
       "1998   Phường Tân Chính,  Thanh Khê                            Bán đất  158.0   \n",
       "1999  Phường Hòa Hải,  Ngũ Hành Sơn                  Bán đất nền dự án  150.0   \n",
       "\n",
       "        Price  \n",
       "0     36000.0  \n",
       "1         NaN  \n",
       "2     45000.0  \n",
       "3         NaN  \n",
       "4     21120.0  \n",
       "...       ...  \n",
       "1995  18500.0  \n",
       "1996   4000.0  \n",
       "1997   2950.0  \n",
       "1998   4450.0  \n",
       "1999   4700.0  \n",
       "\n",
       "[2000 rows x 5 columns]"
      ]
     },
     "execution_count": 464,
     "metadata": {},
     "output_type": "execute_result"
    }
   ],
   "source": [
    "data = pd.read_csv('cleaned_data.csv')\n",
    "df = data.copy()\n",
    "data\n"
   ]
  },
  {
   "cell_type": "code",
   "execution_count": 465,
   "metadata": {},
   "outputs": [
    {
     "data": {
      "text/plain": [
       "Title        0\n",
       "Address      2\n",
       "Type         0\n",
       "Area         2\n",
       "Price      517\n",
       "dtype: int64"
      ]
     },
     "execution_count": 465,
     "metadata": {},
     "output_type": "execute_result"
    }
   ],
   "source": [
    "data.isnull().sum()\n"
   ]
  },
  {
   "cell_type": "code",
   "execution_count": 466,
   "metadata": {},
   "outputs": [
    {
     "data": {
      "text/html": [
       "<div>\n",
       "<style scoped>\n",
       "    .dataframe tbody tr th:only-of-type {\n",
       "        vertical-align: middle;\n",
       "    }\n",
       "\n",
       "    .dataframe tbody tr th {\n",
       "        vertical-align: top;\n",
       "    }\n",
       "\n",
       "    .dataframe thead th {\n",
       "        text-align: right;\n",
       "    }\n",
       "</style>\n",
       "<table border=\"1\" class=\"dataframe\">\n",
       "  <thead>\n",
       "    <tr style=\"text-align: right;\">\n",
       "      <th></th>\n",
       "      <th>Title</th>\n",
       "      <th>Address</th>\n",
       "      <th>Type</th>\n",
       "      <th>Area</th>\n",
       "      <th>Price</th>\n",
       "    </tr>\n",
       "  </thead>\n",
       "  <tbody>\n",
       "    <tr>\n",
       "      <th>0</th>\n",
       "      <td>Biệt thự Sunneva Island, vị trí ngã ba sông H...</td>\n",
       "      <td>Phường Hòa Quý,  Ngũ Hành Sơn</td>\n",
       "      <td>Bán nhà biệt thự, liền kề</td>\n",
       "      <td>240.0</td>\n",
       "      <td>36000.0</td>\n",
       "    </tr>\n",
       "    <tr>\n",
       "      <th>1</th>\n",
       "      <td>Độc nhất vô nhị - Biệt thự đảo kim cương - Đô...</td>\n",
       "      <td>Phường Hòa Quý,  Ngũ Hành Sơn</td>\n",
       "      <td>Bán nhà biệt thự, liền kề</td>\n",
       "      <td>300.0</td>\n",
       "      <td>45000.0</td>\n",
       "    </tr>\n",
       "    <tr>\n",
       "      <th>2</th>\n",
       "      <td>Sunneva Island - biệt thự đảo xanh - vùng đất...</td>\n",
       "      <td>Phường Hòa Quý,  Ngũ Hành Sơn</td>\n",
       "      <td>Bán nhà biệt thự, liền kề</td>\n",
       "      <td>240.0</td>\n",
       "      <td>21120.0</td>\n",
       "    </tr>\n",
       "    <tr>\n",
       "      <th>3</th>\n",
       "      <td>Cần bán nhà phố thương mại Regal Pavillon Đà ...</td>\n",
       "      <td>Phường Hòa Cường Nam,  Hải Châu</td>\n",
       "      <td>Bán shophouse, nhà phố thương mại</td>\n",
       "      <td>120.0</td>\n",
       "      <td>18700.0</td>\n",
       "    </tr>\n",
       "    <tr>\n",
       "      <th>4</th>\n",
       "      <td>Sở hữu vĩnh viễn biệt thự Sunneva Island đẳng...</td>\n",
       "      <td>Phường Hòa Quý,  Ngũ Hành Sơn</td>\n",
       "      <td>Bán nhà biệt thự, liền kề</td>\n",
       "      <td>275.0</td>\n",
       "      <td>31000.0</td>\n",
       "    </tr>\n",
       "    <tr>\n",
       "      <th>...</th>\n",
       "      <td>...</td>\n",
       "      <td>...</td>\n",
       "      <td>...</td>\n",
       "      <td>...</td>\n",
       "      <td>...</td>\n",
       "    </tr>\n",
       "    <tr>\n",
       "      <th>1477</th>\n",
       "      <td>Chính chủ bán gấp căn Pavilon mặt tiền phố đi...</td>\n",
       "      <td>Hải Châu</td>\n",
       "      <td>Bán shophouse, nhà phố thương mại</td>\n",
       "      <td>120.0</td>\n",
       "      <td>18500.0</td>\n",
       "    </tr>\n",
       "    <tr>\n",
       "      <th>1478</th>\n",
       "      <td>Bán đất đường Hoàng Hiệp hướng đông nam gần P...</td>\n",
       "      <td>Phường Hòa Xuân,  Cẩm Lệ</td>\n",
       "      <td>Bán đất</td>\n",
       "      <td>100.0</td>\n",
       "      <td>4000.0</td>\n",
       "    </tr>\n",
       "    <tr>\n",
       "      <th>1479</th>\n",
       "      <td>Mở bán Felicia Ocenview Apart căn hộ mặt biển...</td>\n",
       "      <td>Ngũ Hành Sơn</td>\n",
       "      <td>Bán condotel</td>\n",
       "      <td>50.0</td>\n",
       "      <td>2950.0</td>\n",
       "    </tr>\n",
       "    <tr>\n",
       "      <th>1480</th>\n",
       "      <td>Bán Gấp Lô Đất Khủng. Kiệt Otto Thái Thị Bôi</td>\n",
       "      <td>Phường Tân Chính,  Thanh Khê</td>\n",
       "      <td>Bán đất</td>\n",
       "      <td>158.0</td>\n",
       "      <td>4450.0</td>\n",
       "    </tr>\n",
       "    <tr>\n",
       "      <th>1481</th>\n",
       "      <td>Bán lô biệt thự 150m2 ngang 7,5m MT Trương Mi...</td>\n",
       "      <td>Phường Hòa Hải,  Ngũ Hành Sơn</td>\n",
       "      <td>Bán đất nền dự án</td>\n",
       "      <td>150.0</td>\n",
       "      <td>4700.0</td>\n",
       "    </tr>\n",
       "  </tbody>\n",
       "</table>\n",
       "<p>1482 rows × 5 columns</p>\n",
       "</div>"
      ],
      "text/plain": [
       "                                                  Title  \\\n",
       "0      Biệt thự Sunneva Island, vị trí ngã ba sông H...   \n",
       "1      Độc nhất vô nhị - Biệt thự đảo kim cương - Đô...   \n",
       "2      Sunneva Island - biệt thự đảo xanh - vùng đất...   \n",
       "3      Cần bán nhà phố thương mại Regal Pavillon Đà ...   \n",
       "4      Sở hữu vĩnh viễn biệt thự Sunneva Island đẳng...   \n",
       "...                                                 ...   \n",
       "1477   Chính chủ bán gấp căn Pavilon mặt tiền phố đi...   \n",
       "1478   Bán đất đường Hoàng Hiệp hướng đông nam gần P...   \n",
       "1479   Mở bán Felicia Ocenview Apart căn hộ mặt biển...   \n",
       "1480       Bán Gấp Lô Đất Khủng. Kiệt Otto Thái Thị Bôi   \n",
       "1481   Bán lô biệt thự 150m2 ngang 7,5m MT Trương Mi...   \n",
       "\n",
       "                              Address                               Type  \\\n",
       "0       Phường Hòa Quý,  Ngũ Hành Sơn          Bán nhà biệt thự, liền kề   \n",
       "1       Phường Hòa Quý,  Ngũ Hành Sơn          Bán nhà biệt thự, liền kề   \n",
       "2       Phường Hòa Quý,  Ngũ Hành Sơn          Bán nhà biệt thự, liền kề   \n",
       "3     Phường Hòa Cường Nam,  Hải Châu  Bán shophouse, nhà phố thương mại   \n",
       "4       Phường Hòa Quý,  Ngũ Hành Sơn          Bán nhà biệt thự, liền kề   \n",
       "...                               ...                                ...   \n",
       "1477                         Hải Châu  Bán shophouse, nhà phố thương mại   \n",
       "1478         Phường Hòa Xuân,  Cẩm Lệ                            Bán đất   \n",
       "1479                     Ngũ Hành Sơn                       Bán condotel   \n",
       "1480     Phường Tân Chính,  Thanh Khê                            Bán đất   \n",
       "1481    Phường Hòa Hải,  Ngũ Hành Sơn                  Bán đất nền dự án   \n",
       "\n",
       "       Area    Price  \n",
       "0     240.0  36000.0  \n",
       "1     300.0  45000.0  \n",
       "2     240.0  21120.0  \n",
       "3     120.0  18700.0  \n",
       "4     275.0  31000.0  \n",
       "...     ...      ...  \n",
       "1477  120.0  18500.0  \n",
       "1478  100.0   4000.0  \n",
       "1479   50.0   2950.0  \n",
       "1480  158.0   4450.0  \n",
       "1481  150.0   4700.0  \n",
       "\n",
       "[1482 rows x 5 columns]"
      ]
     },
     "execution_count": 466,
     "metadata": {},
     "output_type": "execute_result"
    }
   ],
   "source": [
    "temp = data[~pd.isna(data).any(axis=1)].reset_index(drop = True)\n",
    "temp"
   ]
  },
  {
   "cell_type": "code",
   "execution_count": 467,
   "metadata": {},
   "outputs": [
    {
     "data": {
      "text/plain": [
       "Title      0\n",
       "Address    0\n",
       "Type       0\n",
       "Area       0\n",
       "Price      0\n",
       "dtype: int64"
      ]
     },
     "execution_count": 467,
     "metadata": {},
     "output_type": "execute_result"
    }
   ],
   "source": [
    "temp.isnull().sum()\n"
   ]
  },
  {
   "cell_type": "code",
   "execution_count": 468,
   "metadata": {},
   "outputs": [
    {
     "data": {
      "text/html": [
       "<div>\n",
       "<style scoped>\n",
       "    .dataframe tbody tr th:only-of-type {\n",
       "        vertical-align: middle;\n",
       "    }\n",
       "\n",
       "    .dataframe tbody tr th {\n",
       "        vertical-align: top;\n",
       "    }\n",
       "\n",
       "    .dataframe thead th {\n",
       "        text-align: right;\n",
       "    }\n",
       "</style>\n",
       "<table border=\"1\" class=\"dataframe\">\n",
       "  <thead>\n",
       "    <tr style=\"text-align: right;\">\n",
       "      <th></th>\n",
       "      <th>Area</th>\n",
       "      <th>Price</th>\n",
       "    </tr>\n",
       "  </thead>\n",
       "  <tbody>\n",
       "    <tr>\n",
       "      <th>count</th>\n",
       "      <td>1482.000000</td>\n",
       "      <td>1482.000000</td>\n",
       "    </tr>\n",
       "    <tr>\n",
       "      <th>mean</th>\n",
       "      <td>269.862989</td>\n",
       "      <td>19975.364474</td>\n",
       "    </tr>\n",
       "    <tr>\n",
       "      <th>std</th>\n",
       "      <td>1681.191399</td>\n",
       "      <td>54616.636592</td>\n",
       "    </tr>\n",
       "    <tr>\n",
       "      <th>min</th>\n",
       "      <td>20.500000</td>\n",
       "      <td>506.000000</td>\n",
       "    </tr>\n",
       "    <tr>\n",
       "      <th>25%</th>\n",
       "      <td>90.000000</td>\n",
       "      <td>3500.000000</td>\n",
       "    </tr>\n",
       "    <tr>\n",
       "      <th>50%</th>\n",
       "      <td>105.000000</td>\n",
       "      <td>5600.000000</td>\n",
       "    </tr>\n",
       "    <tr>\n",
       "      <th>75%</th>\n",
       "      <td>172.500000</td>\n",
       "      <td>14800.000000</td>\n",
       "    </tr>\n",
       "    <tr>\n",
       "      <th>max</th>\n",
       "      <td>40000.000000</td>\n",
       "      <td>700000.000000</td>\n",
       "    </tr>\n",
       "  </tbody>\n",
       "</table>\n",
       "</div>"
      ],
      "text/plain": [
       "               Area          Price\n",
       "count   1482.000000    1482.000000\n",
       "mean     269.862989   19975.364474\n",
       "std     1681.191399   54616.636592\n",
       "min       20.500000     506.000000\n",
       "25%       90.000000    3500.000000\n",
       "50%      105.000000    5600.000000\n",
       "75%      172.500000   14800.000000\n",
       "max    40000.000000  700000.000000"
      ]
     },
     "execution_count": 468,
     "metadata": {},
     "output_type": "execute_result"
    }
   ],
   "source": [
    "temp.describe()\n"
   ]
  },
  {
   "cell_type": "code",
   "execution_count": 469,
   "metadata": {},
   "outputs": [
    {
     "data": {
      "text/html": [
       "<div>\n",
       "<style scoped>\n",
       "    .dataframe tbody tr th:only-of-type {\n",
       "        vertical-align: middle;\n",
       "    }\n",
       "\n",
       "    .dataframe tbody tr th {\n",
       "        vertical-align: top;\n",
       "    }\n",
       "\n",
       "    .dataframe thead th {\n",
       "        text-align: right;\n",
       "    }\n",
       "</style>\n",
       "<table border=\"1\" class=\"dataframe\">\n",
       "  <thead>\n",
       "    <tr style=\"text-align: right;\">\n",
       "      <th></th>\n",
       "      <th>Title</th>\n",
       "      <th>Address</th>\n",
       "      <th>Type</th>\n",
       "      <th>Area</th>\n",
       "      <th>Price</th>\n",
       "    </tr>\n",
       "  </thead>\n",
       "  <tbody>\n",
       "    <tr>\n",
       "      <th>0</th>\n",
       "      <td>Biệt thự Sunneva Island, vị trí ngã ba sông H...</td>\n",
       "      <td>Phường Hòa Quý,  Ngũ Hành Sơn</td>\n",
       "      <td>Bán nhà biệt thự, liền kề</td>\n",
       "      <td>240.0</td>\n",
       "      <td>36000.0</td>\n",
       "    </tr>\n",
       "    <tr>\n",
       "      <th>1</th>\n",
       "      <td>Độc nhất vô nhị - Biệt thự đảo kim cương - Đô...</td>\n",
       "      <td>Phường Hòa Quý,  Ngũ Hành Sơn</td>\n",
       "      <td>Bán nhà biệt thự, liền kề</td>\n",
       "      <td>300.0</td>\n",
       "      <td>45000.0</td>\n",
       "    </tr>\n",
       "    <tr>\n",
       "      <th>2</th>\n",
       "      <td>Sunneva Island - biệt thự đảo xanh - vùng đất...</td>\n",
       "      <td>Phường Hòa Quý,  Ngũ Hành Sơn</td>\n",
       "      <td>Bán nhà biệt thự, liền kề</td>\n",
       "      <td>240.0</td>\n",
       "      <td>21120.0</td>\n",
       "    </tr>\n",
       "    <tr>\n",
       "      <th>3</th>\n",
       "      <td>Cần bán nhà phố thương mại Regal Pavillon Đà ...</td>\n",
       "      <td>Phường Hòa Cường Nam,  Hải Châu</td>\n",
       "      <td>Bán shophouse, nhà phố thương mại</td>\n",
       "      <td>120.0</td>\n",
       "      <td>18700.0</td>\n",
       "    </tr>\n",
       "    <tr>\n",
       "      <th>4</th>\n",
       "      <td>Sở hữu vĩnh viễn biệt thự Sunneva Island đẳng...</td>\n",
       "      <td>Phường Hòa Quý,  Ngũ Hành Sơn</td>\n",
       "      <td>Bán nhà biệt thự, liền kề</td>\n",
       "      <td>275.0</td>\n",
       "      <td>31000.0</td>\n",
       "    </tr>\n",
       "    <tr>\n",
       "      <th>...</th>\n",
       "      <td>...</td>\n",
       "      <td>...</td>\n",
       "      <td>...</td>\n",
       "      <td>...</td>\n",
       "      <td>...</td>\n",
       "    </tr>\n",
       "    <tr>\n",
       "      <th>1477</th>\n",
       "      <td>Chính chủ bán gấp căn Pavilon mặt tiền phố đi...</td>\n",
       "      <td>Hải Châu</td>\n",
       "      <td>Bán shophouse, nhà phố thương mại</td>\n",
       "      <td>120.0</td>\n",
       "      <td>18500.0</td>\n",
       "    </tr>\n",
       "    <tr>\n",
       "      <th>1478</th>\n",
       "      <td>Bán đất đường Hoàng Hiệp hướng đông nam gần P...</td>\n",
       "      <td>Phường Hòa Xuân,  Cẩm Lệ</td>\n",
       "      <td>Bán đất</td>\n",
       "      <td>100.0</td>\n",
       "      <td>4000.0</td>\n",
       "    </tr>\n",
       "    <tr>\n",
       "      <th>1479</th>\n",
       "      <td>Mở bán Felicia Ocenview Apart căn hộ mặt biển...</td>\n",
       "      <td>Ngũ Hành Sơn</td>\n",
       "      <td>Bán condotel</td>\n",
       "      <td>50.0</td>\n",
       "      <td>2950.0</td>\n",
       "    </tr>\n",
       "    <tr>\n",
       "      <th>1480</th>\n",
       "      <td>Bán Gấp Lô Đất Khủng. Kiệt Otto Thái Thị Bôi</td>\n",
       "      <td>Phường Tân Chính,  Thanh Khê</td>\n",
       "      <td>Bán đất</td>\n",
       "      <td>158.0</td>\n",
       "      <td>4450.0</td>\n",
       "    </tr>\n",
       "    <tr>\n",
       "      <th>1481</th>\n",
       "      <td>Bán lô biệt thự 150m2 ngang 7,5m MT Trương Mi...</td>\n",
       "      <td>Phường Hòa Hải,  Ngũ Hành Sơn</td>\n",
       "      <td>Bán đất nền dự án</td>\n",
       "      <td>150.0</td>\n",
       "      <td>4700.0</td>\n",
       "    </tr>\n",
       "  </tbody>\n",
       "</table>\n",
       "<p>1482 rows × 5 columns</p>\n",
       "</div>"
      ],
      "text/plain": [
       "                                                  Title  \\\n",
       "0      Biệt thự Sunneva Island, vị trí ngã ba sông H...   \n",
       "1      Độc nhất vô nhị - Biệt thự đảo kim cương - Đô...   \n",
       "2      Sunneva Island - biệt thự đảo xanh - vùng đất...   \n",
       "3      Cần bán nhà phố thương mại Regal Pavillon Đà ...   \n",
       "4      Sở hữu vĩnh viễn biệt thự Sunneva Island đẳng...   \n",
       "...                                                 ...   \n",
       "1477   Chính chủ bán gấp căn Pavilon mặt tiền phố đi...   \n",
       "1478   Bán đất đường Hoàng Hiệp hướng đông nam gần P...   \n",
       "1479   Mở bán Felicia Ocenview Apart căn hộ mặt biển...   \n",
       "1480       Bán Gấp Lô Đất Khủng. Kiệt Otto Thái Thị Bôi   \n",
       "1481   Bán lô biệt thự 150m2 ngang 7,5m MT Trương Mi...   \n",
       "\n",
       "                              Address                               Type  \\\n",
       "0       Phường Hòa Quý,  Ngũ Hành Sơn          Bán nhà biệt thự, liền kề   \n",
       "1       Phường Hòa Quý,  Ngũ Hành Sơn          Bán nhà biệt thự, liền kề   \n",
       "2       Phường Hòa Quý,  Ngũ Hành Sơn          Bán nhà biệt thự, liền kề   \n",
       "3     Phường Hòa Cường Nam,  Hải Châu  Bán shophouse, nhà phố thương mại   \n",
       "4       Phường Hòa Quý,  Ngũ Hành Sơn          Bán nhà biệt thự, liền kề   \n",
       "...                               ...                                ...   \n",
       "1477                         Hải Châu  Bán shophouse, nhà phố thương mại   \n",
       "1478         Phường Hòa Xuân,  Cẩm Lệ                            Bán đất   \n",
       "1479                     Ngũ Hành Sơn                       Bán condotel   \n",
       "1480     Phường Tân Chính,  Thanh Khê                            Bán đất   \n",
       "1481    Phường Hòa Hải,  Ngũ Hành Sơn                  Bán đất nền dự án   \n",
       "\n",
       "       Area    Price  \n",
       "0     240.0  36000.0  \n",
       "1     300.0  45000.0  \n",
       "2     240.0  21120.0  \n",
       "3     120.0  18700.0  \n",
       "4     275.0  31000.0  \n",
       "...     ...      ...  \n",
       "1477  120.0  18500.0  \n",
       "1478  100.0   4000.0  \n",
       "1479   50.0   2950.0  \n",
       "1480  158.0   4450.0  \n",
       "1481  150.0   4700.0  \n",
       "\n",
       "[1482 rows x 5 columns]"
      ]
     },
     "execution_count": 469,
     "metadata": {},
     "output_type": "execute_result"
    }
   ],
   "source": [
    "data_cleaned = temp.copy()\n",
    "data_t = temp.copy()\n",
    "data_t\n"
   ]
  },
  {
   "cell_type": "markdown",
   "metadata": {},
   "source": [
    "### Thêm cột quận"
   ]
  },
  {
   "cell_type": "code",
   "execution_count": 470,
   "metadata": {},
   "outputs": [
    {
     "data": {
      "text/html": [
       "<div>\n",
       "<style scoped>\n",
       "    .dataframe tbody tr th:only-of-type {\n",
       "        vertical-align: middle;\n",
       "    }\n",
       "\n",
       "    .dataframe tbody tr th {\n",
       "        vertical-align: top;\n",
       "    }\n",
       "\n",
       "    .dataframe thead th {\n",
       "        text-align: right;\n",
       "    }\n",
       "</style>\n",
       "<table border=\"1\" class=\"dataframe\">\n",
       "  <thead>\n",
       "    <tr style=\"text-align: right;\">\n",
       "      <th></th>\n",
       "      <th>Title</th>\n",
       "      <th>Address</th>\n",
       "      <th>Type</th>\n",
       "      <th>Area</th>\n",
       "      <th>Price</th>\n",
       "      <th>district</th>\n",
       "    </tr>\n",
       "  </thead>\n",
       "  <tbody>\n",
       "    <tr>\n",
       "      <th>0</th>\n",
       "      <td>Biệt thự Sunneva Island, vị trí ngã ba sông H...</td>\n",
       "      <td>Phường Hòa Quý,  Ngũ Hành Sơn</td>\n",
       "      <td>Bán nhà biệt thự, liền kề</td>\n",
       "      <td>240.0</td>\n",
       "      <td>36000.0</td>\n",
       "      <td>ngũ hành sơn</td>\n",
       "    </tr>\n",
       "    <tr>\n",
       "      <th>1</th>\n",
       "      <td>Độc nhất vô nhị - Biệt thự đảo kim cương - Đô...</td>\n",
       "      <td>Phường Hòa Quý,  Ngũ Hành Sơn</td>\n",
       "      <td>Bán nhà biệt thự, liền kề</td>\n",
       "      <td>300.0</td>\n",
       "      <td>45000.0</td>\n",
       "      <td>ngũ hành sơn</td>\n",
       "    </tr>\n",
       "    <tr>\n",
       "      <th>2</th>\n",
       "      <td>Sunneva Island - biệt thự đảo xanh - vùng đất...</td>\n",
       "      <td>Phường Hòa Quý,  Ngũ Hành Sơn</td>\n",
       "      <td>Bán nhà biệt thự, liền kề</td>\n",
       "      <td>240.0</td>\n",
       "      <td>21120.0</td>\n",
       "      <td>ngũ hành sơn</td>\n",
       "    </tr>\n",
       "    <tr>\n",
       "      <th>3</th>\n",
       "      <td>Cần bán nhà phố thương mại Regal Pavillon Đà ...</td>\n",
       "      <td>Phường Hòa Cường Nam,  Hải Châu</td>\n",
       "      <td>Bán shophouse, nhà phố thương mại</td>\n",
       "      <td>120.0</td>\n",
       "      <td>18700.0</td>\n",
       "      <td>hải châu</td>\n",
       "    </tr>\n",
       "    <tr>\n",
       "      <th>4</th>\n",
       "      <td>Sở hữu vĩnh viễn biệt thự Sunneva Island đẳng...</td>\n",
       "      <td>Phường Hòa Quý,  Ngũ Hành Sơn</td>\n",
       "      <td>Bán nhà biệt thự, liền kề</td>\n",
       "      <td>275.0</td>\n",
       "      <td>31000.0</td>\n",
       "      <td>ngũ hành sơn</td>\n",
       "    </tr>\n",
       "    <tr>\n",
       "      <th>...</th>\n",
       "      <td>...</td>\n",
       "      <td>...</td>\n",
       "      <td>...</td>\n",
       "      <td>...</td>\n",
       "      <td>...</td>\n",
       "      <td>...</td>\n",
       "    </tr>\n",
       "    <tr>\n",
       "      <th>1477</th>\n",
       "      <td>Chính chủ bán gấp căn Pavilon mặt tiền phố đi...</td>\n",
       "      <td>Hải Châu</td>\n",
       "      <td>Bán shophouse, nhà phố thương mại</td>\n",
       "      <td>120.0</td>\n",
       "      <td>18500.0</td>\n",
       "      <td>hải châu</td>\n",
       "    </tr>\n",
       "    <tr>\n",
       "      <th>1478</th>\n",
       "      <td>Bán đất đường Hoàng Hiệp hướng đông nam gần P...</td>\n",
       "      <td>Phường Hòa Xuân,  Cẩm Lệ</td>\n",
       "      <td>Bán đất</td>\n",
       "      <td>100.0</td>\n",
       "      <td>4000.0</td>\n",
       "      <td>cẩm lệ</td>\n",
       "    </tr>\n",
       "    <tr>\n",
       "      <th>1479</th>\n",
       "      <td>Mở bán Felicia Ocenview Apart căn hộ mặt biển...</td>\n",
       "      <td>Ngũ Hành Sơn</td>\n",
       "      <td>Bán condotel</td>\n",
       "      <td>50.0</td>\n",
       "      <td>2950.0</td>\n",
       "      <td>ngũ hành sơn</td>\n",
       "    </tr>\n",
       "    <tr>\n",
       "      <th>1480</th>\n",
       "      <td>Bán Gấp Lô Đất Khủng. Kiệt Otto Thái Thị Bôi</td>\n",
       "      <td>Phường Tân Chính,  Thanh Khê</td>\n",
       "      <td>Bán đất</td>\n",
       "      <td>158.0</td>\n",
       "      <td>4450.0</td>\n",
       "      <td>thanh khê</td>\n",
       "    </tr>\n",
       "    <tr>\n",
       "      <th>1481</th>\n",
       "      <td>Bán lô biệt thự 150m2 ngang 7,5m MT Trương Mi...</td>\n",
       "      <td>Phường Hòa Hải,  Ngũ Hành Sơn</td>\n",
       "      <td>Bán đất nền dự án</td>\n",
       "      <td>150.0</td>\n",
       "      <td>4700.0</td>\n",
       "      <td>ngũ hành sơn</td>\n",
       "    </tr>\n",
       "  </tbody>\n",
       "</table>\n",
       "<p>1482 rows × 6 columns</p>\n",
       "</div>"
      ],
      "text/plain": [
       "                                                  Title  \\\n",
       "0      Biệt thự Sunneva Island, vị trí ngã ba sông H...   \n",
       "1      Độc nhất vô nhị - Biệt thự đảo kim cương - Đô...   \n",
       "2      Sunneva Island - biệt thự đảo xanh - vùng đất...   \n",
       "3      Cần bán nhà phố thương mại Regal Pavillon Đà ...   \n",
       "4      Sở hữu vĩnh viễn biệt thự Sunneva Island đẳng...   \n",
       "...                                                 ...   \n",
       "1477   Chính chủ bán gấp căn Pavilon mặt tiền phố đi...   \n",
       "1478   Bán đất đường Hoàng Hiệp hướng đông nam gần P...   \n",
       "1479   Mở bán Felicia Ocenview Apart căn hộ mặt biển...   \n",
       "1480       Bán Gấp Lô Đất Khủng. Kiệt Otto Thái Thị Bôi   \n",
       "1481   Bán lô biệt thự 150m2 ngang 7,5m MT Trương Mi...   \n",
       "\n",
       "                              Address                               Type  \\\n",
       "0       Phường Hòa Quý,  Ngũ Hành Sơn          Bán nhà biệt thự, liền kề   \n",
       "1       Phường Hòa Quý,  Ngũ Hành Sơn          Bán nhà biệt thự, liền kề   \n",
       "2       Phường Hòa Quý,  Ngũ Hành Sơn          Bán nhà biệt thự, liền kề   \n",
       "3     Phường Hòa Cường Nam,  Hải Châu  Bán shophouse, nhà phố thương mại   \n",
       "4       Phường Hòa Quý,  Ngũ Hành Sơn          Bán nhà biệt thự, liền kề   \n",
       "...                               ...                                ...   \n",
       "1477                         Hải Châu  Bán shophouse, nhà phố thương mại   \n",
       "1478         Phường Hòa Xuân,  Cẩm Lệ                            Bán đất   \n",
       "1479                     Ngũ Hành Sơn                       Bán condotel   \n",
       "1480     Phường Tân Chính,  Thanh Khê                            Bán đất   \n",
       "1481    Phường Hòa Hải,  Ngũ Hành Sơn                  Bán đất nền dự án   \n",
       "\n",
       "       Area    Price      district  \n",
       "0     240.0  36000.0  ngũ hành sơn  \n",
       "1     300.0  45000.0  ngũ hành sơn  \n",
       "2     240.0  21120.0  ngũ hành sơn  \n",
       "3     120.0  18700.0      hải châu  \n",
       "4     275.0  31000.0  ngũ hành sơn  \n",
       "...     ...      ...           ...  \n",
       "1477  120.0  18500.0      hải châu  \n",
       "1478  100.0   4000.0        cẩm lệ  \n",
       "1479   50.0   2950.0  ngũ hành sơn  \n",
       "1480  158.0   4450.0     thanh khê  \n",
       "1481  150.0   4700.0  ngũ hành sơn  \n",
       "\n",
       "[1482 rows x 6 columns]"
      ]
     },
     "execution_count": 470,
     "metadata": {},
     "output_type": "execute_result"
    }
   ],
   "source": [
    "arr_address = []\n",
    "for i in data_t['Address']:\n",
    "    x = i.split(\", \")\n",
    "    if len(x) == 1:\n",
    "        if \"P Hoà Minh\" in x[0]:\n",
    "            arr_address.append(\"liên chiểu\")\n",
    "        else:\n",
    "            arr_address.append(x[0].strip().replace(\"Quận \",\"\").lower())\n",
    "    if len(x) == 2:\n",
    "        arr_address.append(x[1].strip().replace(\"Quận \",\"\").lower())    \n",
    "data_t['district'] = pd.Series(arr_address, index=data_t.index)\n",
    "data_t\n"
   ]
  },
  {
   "cell_type": "markdown",
   "metadata": {},
   "source": [
    "### Thêm các cột dữ liệu\n"
   ]
  },
  {
   "cell_type": "code",
   "execution_count": 471,
   "metadata": {},
   "outputs": [
    {
     "data": {
      "text/html": [
       "<div>\n",
       "<style scoped>\n",
       "    .dataframe tbody tr th:only-of-type {\n",
       "        vertical-align: middle;\n",
       "    }\n",
       "\n",
       "    .dataframe tbody tr th {\n",
       "        vertical-align: top;\n",
       "    }\n",
       "\n",
       "    .dataframe thead th {\n",
       "        text-align: right;\n",
       "    }\n",
       "</style>\n",
       "<table border=\"1\" class=\"dataframe\">\n",
       "  <thead>\n",
       "    <tr style=\"text-align: right;\">\n",
       "      <th></th>\n",
       "      <th>Title</th>\n",
       "      <th>Address</th>\n",
       "      <th>Type</th>\n",
       "      <th>Area</th>\n",
       "      <th>Price</th>\n",
       "      <th>district</th>\n",
       "      <th>estate</th>\n",
       "    </tr>\n",
       "  </thead>\n",
       "  <tbody>\n",
       "    <tr>\n",
       "      <th>0</th>\n",
       "      <td>Biệt thự Sunneva Island, vị trí ngã ba sông H...</td>\n",
       "      <td>Phường Hòa Quý,  Ngũ Hành Sơn</td>\n",
       "      <td>Bán nhà biệt thự, liền kề</td>\n",
       "      <td>240.0</td>\n",
       "      <td>36000.0</td>\n",
       "      <td>ngũ hành sơn</td>\n",
       "      <td>biệt thự</td>\n",
       "    </tr>\n",
       "    <tr>\n",
       "      <th>1</th>\n",
       "      <td>Độc nhất vô nhị - Biệt thự đảo kim cương - Đô...</td>\n",
       "      <td>Phường Hòa Quý,  Ngũ Hành Sơn</td>\n",
       "      <td>Bán nhà biệt thự, liền kề</td>\n",
       "      <td>300.0</td>\n",
       "      <td>45000.0</td>\n",
       "      <td>ngũ hành sơn</td>\n",
       "      <td>biệt thự</td>\n",
       "    </tr>\n",
       "    <tr>\n",
       "      <th>2</th>\n",
       "      <td>Sunneva Island - biệt thự đảo xanh - vùng đất...</td>\n",
       "      <td>Phường Hòa Quý,  Ngũ Hành Sơn</td>\n",
       "      <td>Bán nhà biệt thự, liền kề</td>\n",
       "      <td>240.0</td>\n",
       "      <td>21120.0</td>\n",
       "      <td>ngũ hành sơn</td>\n",
       "      <td>biệt thự</td>\n",
       "    </tr>\n",
       "    <tr>\n",
       "      <th>3</th>\n",
       "      <td>Cần bán nhà phố thương mại Regal Pavillon Đà ...</td>\n",
       "      <td>Phường Hòa Cường Nam,  Hải Châu</td>\n",
       "      <td>Bán shophouse, nhà phố thương mại</td>\n",
       "      <td>120.0</td>\n",
       "      <td>18700.0</td>\n",
       "      <td>hải châu</td>\n",
       "      <td>nhà phố thương mại</td>\n",
       "    </tr>\n",
       "    <tr>\n",
       "      <th>4</th>\n",
       "      <td>Sở hữu vĩnh viễn biệt thự Sunneva Island đẳng...</td>\n",
       "      <td>Phường Hòa Quý,  Ngũ Hành Sơn</td>\n",
       "      <td>Bán nhà biệt thự, liền kề</td>\n",
       "      <td>275.0</td>\n",
       "      <td>31000.0</td>\n",
       "      <td>ngũ hành sơn</td>\n",
       "      <td>biệt thự</td>\n",
       "    </tr>\n",
       "    <tr>\n",
       "      <th>...</th>\n",
       "      <td>...</td>\n",
       "      <td>...</td>\n",
       "      <td>...</td>\n",
       "      <td>...</td>\n",
       "      <td>...</td>\n",
       "      <td>...</td>\n",
       "      <td>...</td>\n",
       "    </tr>\n",
       "    <tr>\n",
       "      <th>1477</th>\n",
       "      <td>Chính chủ bán gấp căn Pavilon mặt tiền phố đi...</td>\n",
       "      <td>Hải Châu</td>\n",
       "      <td>Bán shophouse, nhà phố thương mại</td>\n",
       "      <td>120.0</td>\n",
       "      <td>18500.0</td>\n",
       "      <td>hải châu</td>\n",
       "      <td>nhà phố thương mại</td>\n",
       "    </tr>\n",
       "    <tr>\n",
       "      <th>1478</th>\n",
       "      <td>Bán đất đường Hoàng Hiệp hướng đông nam gần P...</td>\n",
       "      <td>Phường Hòa Xuân,  Cẩm Lệ</td>\n",
       "      <td>Bán đất</td>\n",
       "      <td>100.0</td>\n",
       "      <td>4000.0</td>\n",
       "      <td>cẩm lệ</td>\n",
       "      <td>đất</td>\n",
       "    </tr>\n",
       "    <tr>\n",
       "      <th>1479</th>\n",
       "      <td>Mở bán Felicia Ocenview Apart căn hộ mặt biển...</td>\n",
       "      <td>Ngũ Hành Sơn</td>\n",
       "      <td>Bán condotel</td>\n",
       "      <td>50.0</td>\n",
       "      <td>2950.0</td>\n",
       "      <td>ngũ hành sơn</td>\n",
       "      <td>căn hộ</td>\n",
       "    </tr>\n",
       "    <tr>\n",
       "      <th>1480</th>\n",
       "      <td>Bán Gấp Lô Đất Khủng. Kiệt Otto Thái Thị Bôi</td>\n",
       "      <td>Phường Tân Chính,  Thanh Khê</td>\n",
       "      <td>Bán đất</td>\n",
       "      <td>158.0</td>\n",
       "      <td>4450.0</td>\n",
       "      <td>thanh khê</td>\n",
       "      <td>đất</td>\n",
       "    </tr>\n",
       "    <tr>\n",
       "      <th>1481</th>\n",
       "      <td>Bán lô biệt thự 150m2 ngang 7,5m MT Trương Mi...</td>\n",
       "      <td>Phường Hòa Hải,  Ngũ Hành Sơn</td>\n",
       "      <td>Bán đất nền dự án</td>\n",
       "      <td>150.0</td>\n",
       "      <td>4700.0</td>\n",
       "      <td>ngũ hành sơn</td>\n",
       "      <td>đất</td>\n",
       "    </tr>\n",
       "  </tbody>\n",
       "</table>\n",
       "<p>1482 rows × 7 columns</p>\n",
       "</div>"
      ],
      "text/plain": [
       "                                                  Title  \\\n",
       "0      Biệt thự Sunneva Island, vị trí ngã ba sông H...   \n",
       "1      Độc nhất vô nhị - Biệt thự đảo kim cương - Đô...   \n",
       "2      Sunneva Island - biệt thự đảo xanh - vùng đất...   \n",
       "3      Cần bán nhà phố thương mại Regal Pavillon Đà ...   \n",
       "4      Sở hữu vĩnh viễn biệt thự Sunneva Island đẳng...   \n",
       "...                                                 ...   \n",
       "1477   Chính chủ bán gấp căn Pavilon mặt tiền phố đi...   \n",
       "1478   Bán đất đường Hoàng Hiệp hướng đông nam gần P...   \n",
       "1479   Mở bán Felicia Ocenview Apart căn hộ mặt biển...   \n",
       "1480       Bán Gấp Lô Đất Khủng. Kiệt Otto Thái Thị Bôi   \n",
       "1481   Bán lô biệt thự 150m2 ngang 7,5m MT Trương Mi...   \n",
       "\n",
       "                              Address                               Type  \\\n",
       "0       Phường Hòa Quý,  Ngũ Hành Sơn          Bán nhà biệt thự, liền kề   \n",
       "1       Phường Hòa Quý,  Ngũ Hành Sơn          Bán nhà biệt thự, liền kề   \n",
       "2       Phường Hòa Quý,  Ngũ Hành Sơn          Bán nhà biệt thự, liền kề   \n",
       "3     Phường Hòa Cường Nam,  Hải Châu  Bán shophouse, nhà phố thương mại   \n",
       "4       Phường Hòa Quý,  Ngũ Hành Sơn          Bán nhà biệt thự, liền kề   \n",
       "...                               ...                                ...   \n",
       "1477                         Hải Châu  Bán shophouse, nhà phố thương mại   \n",
       "1478         Phường Hòa Xuân,  Cẩm Lệ                            Bán đất   \n",
       "1479                     Ngũ Hành Sơn                       Bán condotel   \n",
       "1480     Phường Tân Chính,  Thanh Khê                            Bán đất   \n",
       "1481    Phường Hòa Hải,  Ngũ Hành Sơn                  Bán đất nền dự án   \n",
       "\n",
       "       Area    Price      district              estate  \n",
       "0     240.0  36000.0  ngũ hành sơn            biệt thự  \n",
       "1     300.0  45000.0  ngũ hành sơn            biệt thự  \n",
       "2     240.0  21120.0  ngũ hành sơn            biệt thự  \n",
       "3     120.0  18700.0      hải châu  nhà phố thương mại  \n",
       "4     275.0  31000.0  ngũ hành sơn            biệt thự  \n",
       "...     ...      ...           ...                 ...  \n",
       "1477  120.0  18500.0      hải châu  nhà phố thương mại  \n",
       "1478  100.0   4000.0        cẩm lệ                 đất  \n",
       "1479   50.0   2950.0  ngũ hành sơn              căn hộ  \n",
       "1480  158.0   4450.0     thanh khê                 đất  \n",
       "1481  150.0   4700.0  ngũ hành sơn                 đất  \n",
       "\n",
       "[1482 rows x 7 columns]"
      ]
     },
     "execution_count": 471,
     "metadata": {},
     "output_type": "execute_result"
    }
   ],
   "source": [
    "arr_type = []\n",
    "for i in data_t['Type']:\n",
    "    if \"biệt thự\" in i:\n",
    "        arr_type.append(\"biệt thự\")\n",
    "    elif \"nhà phố thương mại\" in i:\n",
    "        arr_type.append(\"nhà phố thương mại\")\n",
    "    elif \"nhà mặt phố\" in i:\n",
    "        arr_type.append(\"nhà mặt phố\")\n",
    "    elif \"chung cư\" in i:\n",
    "        arr_type.append(\"chung cư\")\n",
    "    elif \"đất\" in i:\n",
    "        arr_type.append(\"đất\")\n",
    "    elif \"condotel\" in i:\n",
    "        arr_type.append(\"căn hộ\")\n",
    "    elif \"khác\" in i:\n",
    "        arr_type.append(\"khác\")\n",
    "    else:\n",
    "        arr_type.append(\"nhà\")\n",
    "data_t['estate'] = pd.Series(arr_type, index=data_t.index)\n",
    "data_t\n"
   ]
  },
  {
   "cell_type": "code",
   "execution_count": 472,
   "metadata": {},
   "outputs": [
    {
     "data": {
      "text/html": [
       "<div>\n",
       "<style scoped>\n",
       "    .dataframe tbody tr th:only-of-type {\n",
       "        vertical-align: middle;\n",
       "    }\n",
       "\n",
       "    .dataframe tbody tr th {\n",
       "        vertical-align: top;\n",
       "    }\n",
       "\n",
       "    .dataframe thead th {\n",
       "        text-align: right;\n",
       "    }\n",
       "</style>\n",
       "<table border=\"1\" class=\"dataframe\">\n",
       "  <thead>\n",
       "    <tr style=\"text-align: right;\">\n",
       "      <th></th>\n",
       "      <th>Title</th>\n",
       "      <th>Address</th>\n",
       "      <th>Type</th>\n",
       "      <th>Area</th>\n",
       "      <th>Price</th>\n",
       "      <th>district</th>\n",
       "      <th>estate</th>\n",
       "      <th>price_m2</th>\n",
       "    </tr>\n",
       "  </thead>\n",
       "  <tbody>\n",
       "    <tr>\n",
       "      <th>0</th>\n",
       "      <td>Biệt thự Sunneva Island, vị trí ngã ba sông H...</td>\n",
       "      <td>Phường Hòa Quý,  Ngũ Hành Sơn</td>\n",
       "      <td>Bán nhà biệt thự, liền kề</td>\n",
       "      <td>240.0</td>\n",
       "      <td>36000.0</td>\n",
       "      <td>ngũ hành sơn</td>\n",
       "      <td>biệt thự</td>\n",
       "      <td>150.000000</td>\n",
       "    </tr>\n",
       "    <tr>\n",
       "      <th>1</th>\n",
       "      <td>Độc nhất vô nhị - Biệt thự đảo kim cương - Đô...</td>\n",
       "      <td>Phường Hòa Quý,  Ngũ Hành Sơn</td>\n",
       "      <td>Bán nhà biệt thự, liền kề</td>\n",
       "      <td>300.0</td>\n",
       "      <td>45000.0</td>\n",
       "      <td>ngũ hành sơn</td>\n",
       "      <td>biệt thự</td>\n",
       "      <td>150.000000</td>\n",
       "    </tr>\n",
       "    <tr>\n",
       "      <th>2</th>\n",
       "      <td>Sunneva Island - biệt thự đảo xanh - vùng đất...</td>\n",
       "      <td>Phường Hòa Quý,  Ngũ Hành Sơn</td>\n",
       "      <td>Bán nhà biệt thự, liền kề</td>\n",
       "      <td>240.0</td>\n",
       "      <td>21120.0</td>\n",
       "      <td>ngũ hành sơn</td>\n",
       "      <td>biệt thự</td>\n",
       "      <td>88.000000</td>\n",
       "    </tr>\n",
       "    <tr>\n",
       "      <th>3</th>\n",
       "      <td>Cần bán nhà phố thương mại Regal Pavillon Đà ...</td>\n",
       "      <td>Phường Hòa Cường Nam,  Hải Châu</td>\n",
       "      <td>Bán shophouse, nhà phố thương mại</td>\n",
       "      <td>120.0</td>\n",
       "      <td>18700.0</td>\n",
       "      <td>hải châu</td>\n",
       "      <td>nhà phố thương mại</td>\n",
       "      <td>155.833333</td>\n",
       "    </tr>\n",
       "    <tr>\n",
       "      <th>4</th>\n",
       "      <td>Sở hữu vĩnh viễn biệt thự Sunneva Island đẳng...</td>\n",
       "      <td>Phường Hòa Quý,  Ngũ Hành Sơn</td>\n",
       "      <td>Bán nhà biệt thự, liền kề</td>\n",
       "      <td>275.0</td>\n",
       "      <td>31000.0</td>\n",
       "      <td>ngũ hành sơn</td>\n",
       "      <td>biệt thự</td>\n",
       "      <td>112.727273</td>\n",
       "    </tr>\n",
       "    <tr>\n",
       "      <th>...</th>\n",
       "      <td>...</td>\n",
       "      <td>...</td>\n",
       "      <td>...</td>\n",
       "      <td>...</td>\n",
       "      <td>...</td>\n",
       "      <td>...</td>\n",
       "      <td>...</td>\n",
       "      <td>...</td>\n",
       "    </tr>\n",
       "    <tr>\n",
       "      <th>1477</th>\n",
       "      <td>Chính chủ bán gấp căn Pavilon mặt tiền phố đi...</td>\n",
       "      <td>Hải Châu</td>\n",
       "      <td>Bán shophouse, nhà phố thương mại</td>\n",
       "      <td>120.0</td>\n",
       "      <td>18500.0</td>\n",
       "      <td>hải châu</td>\n",
       "      <td>nhà phố thương mại</td>\n",
       "      <td>154.166667</td>\n",
       "    </tr>\n",
       "    <tr>\n",
       "      <th>1478</th>\n",
       "      <td>Bán đất đường Hoàng Hiệp hướng đông nam gần P...</td>\n",
       "      <td>Phường Hòa Xuân,  Cẩm Lệ</td>\n",
       "      <td>Bán đất</td>\n",
       "      <td>100.0</td>\n",
       "      <td>4000.0</td>\n",
       "      <td>cẩm lệ</td>\n",
       "      <td>đất</td>\n",
       "      <td>40.000000</td>\n",
       "    </tr>\n",
       "    <tr>\n",
       "      <th>1479</th>\n",
       "      <td>Mở bán Felicia Ocenview Apart căn hộ mặt biển...</td>\n",
       "      <td>Ngũ Hành Sơn</td>\n",
       "      <td>Bán condotel</td>\n",
       "      <td>50.0</td>\n",
       "      <td>2950.0</td>\n",
       "      <td>ngũ hành sơn</td>\n",
       "      <td>căn hộ</td>\n",
       "      <td>59.000000</td>\n",
       "    </tr>\n",
       "    <tr>\n",
       "      <th>1480</th>\n",
       "      <td>Bán Gấp Lô Đất Khủng. Kiệt Otto Thái Thị Bôi</td>\n",
       "      <td>Phường Tân Chính,  Thanh Khê</td>\n",
       "      <td>Bán đất</td>\n",
       "      <td>158.0</td>\n",
       "      <td>4450.0</td>\n",
       "      <td>thanh khê</td>\n",
       "      <td>đất</td>\n",
       "      <td>28.164557</td>\n",
       "    </tr>\n",
       "    <tr>\n",
       "      <th>1481</th>\n",
       "      <td>Bán lô biệt thự 150m2 ngang 7,5m MT Trương Mi...</td>\n",
       "      <td>Phường Hòa Hải,  Ngũ Hành Sơn</td>\n",
       "      <td>Bán đất nền dự án</td>\n",
       "      <td>150.0</td>\n",
       "      <td>4700.0</td>\n",
       "      <td>ngũ hành sơn</td>\n",
       "      <td>đất</td>\n",
       "      <td>31.333333</td>\n",
       "    </tr>\n",
       "  </tbody>\n",
       "</table>\n",
       "<p>1482 rows × 8 columns</p>\n",
       "</div>"
      ],
      "text/plain": [
       "                                                  Title  \\\n",
       "0      Biệt thự Sunneva Island, vị trí ngã ba sông H...   \n",
       "1      Độc nhất vô nhị - Biệt thự đảo kim cương - Đô...   \n",
       "2      Sunneva Island - biệt thự đảo xanh - vùng đất...   \n",
       "3      Cần bán nhà phố thương mại Regal Pavillon Đà ...   \n",
       "4      Sở hữu vĩnh viễn biệt thự Sunneva Island đẳng...   \n",
       "...                                                 ...   \n",
       "1477   Chính chủ bán gấp căn Pavilon mặt tiền phố đi...   \n",
       "1478   Bán đất đường Hoàng Hiệp hướng đông nam gần P...   \n",
       "1479   Mở bán Felicia Ocenview Apart căn hộ mặt biển...   \n",
       "1480       Bán Gấp Lô Đất Khủng. Kiệt Otto Thái Thị Bôi   \n",
       "1481   Bán lô biệt thự 150m2 ngang 7,5m MT Trương Mi...   \n",
       "\n",
       "                              Address                               Type  \\\n",
       "0       Phường Hòa Quý,  Ngũ Hành Sơn          Bán nhà biệt thự, liền kề   \n",
       "1       Phường Hòa Quý,  Ngũ Hành Sơn          Bán nhà biệt thự, liền kề   \n",
       "2       Phường Hòa Quý,  Ngũ Hành Sơn          Bán nhà biệt thự, liền kề   \n",
       "3     Phường Hòa Cường Nam,  Hải Châu  Bán shophouse, nhà phố thương mại   \n",
       "4       Phường Hòa Quý,  Ngũ Hành Sơn          Bán nhà biệt thự, liền kề   \n",
       "...                               ...                                ...   \n",
       "1477                         Hải Châu  Bán shophouse, nhà phố thương mại   \n",
       "1478         Phường Hòa Xuân,  Cẩm Lệ                            Bán đất   \n",
       "1479                     Ngũ Hành Sơn                       Bán condotel   \n",
       "1480     Phường Tân Chính,  Thanh Khê                            Bán đất   \n",
       "1481    Phường Hòa Hải,  Ngũ Hành Sơn                  Bán đất nền dự án   \n",
       "\n",
       "       Area    Price      district              estate    price_m2  \n",
       "0     240.0  36000.0  ngũ hành sơn            biệt thự  150.000000  \n",
       "1     300.0  45000.0  ngũ hành sơn            biệt thự  150.000000  \n",
       "2     240.0  21120.0  ngũ hành sơn            biệt thự   88.000000  \n",
       "3     120.0  18700.0      hải châu  nhà phố thương mại  155.833333  \n",
       "4     275.0  31000.0  ngũ hành sơn            biệt thự  112.727273  \n",
       "...     ...      ...           ...                 ...         ...  \n",
       "1477  120.0  18500.0      hải châu  nhà phố thương mại  154.166667  \n",
       "1478  100.0   4000.0        cẩm lệ                 đất   40.000000  \n",
       "1479   50.0   2950.0  ngũ hành sơn              căn hộ   59.000000  \n",
       "1480  158.0   4450.0     thanh khê                 đất   28.164557  \n",
       "1481  150.0   4700.0  ngũ hành sơn                 đất   31.333333  \n",
       "\n",
       "[1482 rows x 8 columns]"
      ]
     },
     "execution_count": 472,
     "metadata": {},
     "output_type": "execute_result"
    }
   ],
   "source": [
    "data_t['price_m2'] = data_t['Price'] / data_t['Area']\n",
    "data_t\n"
   ]
  },
  {
   "cell_type": "markdown",
   "metadata": {},
   "source": [
    "## Label Encoding"
   ]
  },
  {
   "cell_type": "code",
   "execution_count": 473,
   "metadata": {},
   "outputs": [],
   "source": [
    "def MeanPrice(column,value):\n",
    "     return data_t[data_t[column] == value]['price_m2'].mean()\n",
    "     "
   ]
  },
  {
   "cell_type": "code",
   "execution_count": 474,
   "metadata": {},
   "outputs": [
    {
     "name": "stdout",
     "output_type": "stream",
     "text": [
      "['ngũ hành sơn' 'hải châu' 'liên chiểu' 'thanh khê' 'cẩm lệ' 'hòa vang'\n",
      " 'sơn trà']\n"
     ]
    },
    {
     "data": {
      "image/png": "[encoded data removed]",
      "text/plain": [
       "<Figure size 1800x576 with 1 Axes>"
      ]
     },
     "metadata": {},
     "output_type": "display_data"
    }
   ],
   "source": [
    "ValueDistrist = data_t['district'].unique()\n",
    "print(ValueDistrist)\n",
    "arrDistrist = {}\n",
    "for value in ValueDistrist:\n",
    "    arrDistrist[value] = MeanPrice('district',value)\n",
    "sorted_values = sorted(arrDistrist.items(), key=operator.itemgetter(1))\n",
    "sorted_dict = {k: v for k, v in sorted_values}\n",
    "plt.figure(figsize=(25,8))\n",
    "plt.bar(*zip(*sorted_dict.items()))\n",
    "plt.title('Biểu đồ cột biểu diễn giá tiền trung bình trên một mét vuông theo quận')\n",
    "plt.xlabel('Quận')\n",
    "plt.ylabel('Giá tiền trung bình trên một mét vuông')\n",
    "plt.show()\n"
   ]
  },
  {
   "cell_type": "code",
   "execution_count": 475,
   "metadata": {},
   "outputs": [
    {
     "data": {
      "text/html": [
       "<div>\n",
       "<style scoped>\n",
       "    .dataframe tbody tr th:only-of-type {\n",
       "        vertical-align: middle;\n",
       "    }\n",
       "\n",
       "    .dataframe tbody tr th {\n",
       "        vertical-align: top;\n",
       "    }\n",
       "\n",
       "    .dataframe thead th {\n",
       "        text-align: right;\n",
       "    }\n",
       "</style>\n",
       "<table border=\"1\" class=\"dataframe\">\n",
       "  <thead>\n",
       "    <tr style=\"text-align: right;\">\n",
       "      <th></th>\n",
       "      <th>Title</th>\n",
       "      <th>Address</th>\n",
       "      <th>Type</th>\n",
       "      <th>Area</th>\n",
       "      <th>Price</th>\n",
       "      <th>district</th>\n",
       "      <th>estate</th>\n",
       "      <th>price_m2</th>\n",
       "    </tr>\n",
       "  </thead>\n",
       "  <tbody>\n",
       "    <tr>\n",
       "      <th>0</th>\n",
       "      <td>Biệt thự Sunneva Island, vị trí ngã ba sông H...</td>\n",
       "      <td>Phường Hòa Quý,  Ngũ Hành Sơn</td>\n",
       "      <td>Bán nhà biệt thự, liền kề</td>\n",
       "      <td>240.0</td>\n",
       "      <td>36000.0</td>\n",
       "      <td>4</td>\n",
       "      <td>biệt thự</td>\n",
       "      <td>150.000000</td>\n",
       "    </tr>\n",
       "    <tr>\n",
       "      <th>1</th>\n",
       "      <td>Độc nhất vô nhị - Biệt thự đảo kim cương - Đô...</td>\n",
       "      <td>Phường Hòa Quý,  Ngũ Hành Sơn</td>\n",
       "      <td>Bán nhà biệt thự, liền kề</td>\n",
       "      <td>300.0</td>\n",
       "      <td>45000.0</td>\n",
       "      <td>4</td>\n",
       "      <td>biệt thự</td>\n",
       "      <td>150.000000</td>\n",
       "    </tr>\n",
       "    <tr>\n",
       "      <th>2</th>\n",
       "      <td>Sunneva Island - biệt thự đảo xanh - vùng đất...</td>\n",
       "      <td>Phường Hòa Quý,  Ngũ Hành Sơn</td>\n",
       "      <td>Bán nhà biệt thự, liền kề</td>\n",
       "      <td>240.0</td>\n",
       "      <td>21120.0</td>\n",
       "      <td>4</td>\n",
       "      <td>biệt thự</td>\n",
       "      <td>88.000000</td>\n",
       "    </tr>\n",
       "    <tr>\n",
       "      <th>3</th>\n",
       "      <td>Cần bán nhà phố thương mại Regal Pavillon Đà ...</td>\n",
       "      <td>Phường Hòa Cường Nam,  Hải Châu</td>\n",
       "      <td>Bán shophouse, nhà phố thương mại</td>\n",
       "      <td>120.0</td>\n",
       "      <td>18700.0</td>\n",
       "      <td>5</td>\n",
       "      <td>nhà phố thương mại</td>\n",
       "      <td>155.833333</td>\n",
       "    </tr>\n",
       "    <tr>\n",
       "      <th>4</th>\n",
       "      <td>Sở hữu vĩnh viễn biệt thự Sunneva Island đẳng...</td>\n",
       "      <td>Phường Hòa Quý,  Ngũ Hành Sơn</td>\n",
       "      <td>Bán nhà biệt thự, liền kề</td>\n",
       "      <td>275.0</td>\n",
       "      <td>31000.0</td>\n",
       "      <td>4</td>\n",
       "      <td>biệt thự</td>\n",
       "      <td>112.727273</td>\n",
       "    </tr>\n",
       "    <tr>\n",
       "      <th>...</th>\n",
       "      <td>...</td>\n",
       "      <td>...</td>\n",
       "      <td>...</td>\n",
       "      <td>...</td>\n",
       "      <td>...</td>\n",
       "      <td>...</td>\n",
       "      <td>...</td>\n",
       "      <td>...</td>\n",
       "    </tr>\n",
       "    <tr>\n",
       "      <th>1477</th>\n",
       "      <td>Chính chủ bán gấp căn Pavilon mặt tiền phố đi...</td>\n",
       "      <td>Hải Châu</td>\n",
       "      <td>Bán shophouse, nhà phố thương mại</td>\n",
       "      <td>120.0</td>\n",
       "      <td>18500.0</td>\n",
       "      <td>5</td>\n",
       "      <td>nhà phố thương mại</td>\n",
       "      <td>154.166667</td>\n",
       "    </tr>\n",
       "    <tr>\n",
       "      <th>1478</th>\n",
       "      <td>Bán đất đường Hoàng Hiệp hướng đông nam gần P...</td>\n",
       "      <td>Phường Hòa Xuân,  Cẩm Lệ</td>\n",
       "      <td>Bán đất</td>\n",
       "      <td>100.0</td>\n",
       "      <td>4000.0</td>\n",
       "      <td>2</td>\n",
       "      <td>đất</td>\n",
       "      <td>40.000000</td>\n",
       "    </tr>\n",
       "    <tr>\n",
       "      <th>1479</th>\n",
       "      <td>Mở bán Felicia Ocenview Apart căn hộ mặt biển...</td>\n",
       "      <td>Ngũ Hành Sơn</td>\n",
       "      <td>Bán condotel</td>\n",
       "      <td>50.0</td>\n",
       "      <td>2950.0</td>\n",
       "      <td>4</td>\n",
       "      <td>căn hộ</td>\n",
       "      <td>59.000000</td>\n",
       "    </tr>\n",
       "    <tr>\n",
       "      <th>1480</th>\n",
       "      <td>Bán Gấp Lô Đất Khủng. Kiệt Otto Thái Thị Bôi</td>\n",
       "      <td>Phường Tân Chính,  Thanh Khê</td>\n",
       "      <td>Bán đất</td>\n",
       "      <td>158.0</td>\n",
       "      <td>4450.0</td>\n",
       "      <td>3</td>\n",
       "      <td>đất</td>\n",
       "      <td>28.164557</td>\n",
       "    </tr>\n",
       "    <tr>\n",
       "      <th>1481</th>\n",
       "      <td>Bán lô biệt thự 150m2 ngang 7,5m MT Trương Mi...</td>\n",
       "      <td>Phường Hòa Hải,  Ngũ Hành Sơn</td>\n",
       "      <td>Bán đất nền dự án</td>\n",
       "      <td>150.0</td>\n",
       "      <td>4700.0</td>\n",
       "      <td>4</td>\n",
       "      <td>đất</td>\n",
       "      <td>31.333333</td>\n",
       "    </tr>\n",
       "  </tbody>\n",
       "</table>\n",
       "<p>1482 rows × 8 columns</p>\n",
       "</div>"
      ],
      "text/plain": [
       "                                                  Title  \\\n",
       "0      Biệt thự Sunneva Island, vị trí ngã ba sông H...   \n",
       "1      Độc nhất vô nhị - Biệt thự đảo kim cương - Đô...   \n",
       "2      Sunneva Island - biệt thự đảo xanh - vùng đất...   \n",
       "3      Cần bán nhà phố thương mại Regal Pavillon Đà ...   \n",
       "4      Sở hữu vĩnh viễn biệt thự Sunneva Island đẳng...   \n",
       "...                                                 ...   \n",
       "1477   Chính chủ bán gấp căn Pavilon mặt tiền phố đi...   \n",
       "1478   Bán đất đường Hoàng Hiệp hướng đông nam gần P...   \n",
       "1479   Mở bán Felicia Ocenview Apart căn hộ mặt biển...   \n",
       "1480       Bán Gấp Lô Đất Khủng. Kiệt Otto Thái Thị Bôi   \n",
       "1481   Bán lô biệt thự 150m2 ngang 7,5m MT Trương Mi...   \n",
       "\n",
       "                              Address                               Type  \\\n",
       "0       Phường Hòa Quý,  Ngũ Hành Sơn          Bán nhà biệt thự, liền kề   \n",
       "1       Phường Hòa Quý,  Ngũ Hành Sơn          Bán nhà biệt thự, liền kề   \n",
       "2       Phường Hòa Quý,  Ngũ Hành Sơn          Bán nhà biệt thự, liền kề   \n",
       "3     Phường Hòa Cường Nam,  Hải Châu  Bán shophouse, nhà phố thương mại   \n",
       "4       Phường Hòa Quý,  Ngũ Hành Sơn          Bán nhà biệt thự, liền kề   \n",
       "...                               ...                                ...   \n",
       "1477                         Hải Châu  Bán shophouse, nhà phố thương mại   \n",
       "1478         Phường Hòa Xuân,  Cẩm Lệ                            Bán đất   \n",
       "1479                     Ngũ Hành Sơn                       Bán condotel   \n",
       "1480     Phường Tân Chính,  Thanh Khê                            Bán đất   \n",
       "1481    Phường Hòa Hải,  Ngũ Hành Sơn                  Bán đất nền dự án   \n",
       "\n",
       "       Area    Price district              estate    price_m2  \n",
       "0     240.0  36000.0        4            biệt thự  150.000000  \n",
       "1     300.0  45000.0        4            biệt thự  150.000000  \n",
       "2     240.0  21120.0        4            biệt thự   88.000000  \n",
       "3     120.0  18700.0        5  nhà phố thương mại  155.833333  \n",
       "4     275.0  31000.0        4            biệt thự  112.727273  \n",
       "...     ...      ...      ...                 ...         ...  \n",
       "1477  120.0  18500.0        5  nhà phố thương mại  154.166667  \n",
       "1478  100.0   4000.0        2                 đất   40.000000  \n",
       "1479   50.0   2950.0        4              căn hộ   59.000000  \n",
       "1480  158.0   4450.0        3                 đất   28.164557  \n",
       "1481  150.0   4700.0        4                 đất   31.333333  \n",
       "\n",
       "[1482 rows x 8 columns]"
      ]
     },
     "execution_count": 475,
     "metadata": {},
     "output_type": "execute_result"
    }
   ],
   "source": [
    "i = 0\n",
    "for key in sorted_dict:\n",
    "    data_t['district'][data_t['district'] == key] = i\n",
    "    i = i + 1\n",
    "data_t\n"
   ]
  },
  {
   "cell_type": "code",
   "execution_count": 476,
   "metadata": {},
   "outputs": [
    {
     "name": "stdout",
     "output_type": "stream",
     "text": [
      "['biệt thự' 'nhà phố thương mại' 'đất' 'nhà mặt phố' 'nhà' 'chung cư'\n",
      " 'khác' 'căn hộ']\n"
     ]
    },
    {
     "data": {
      "image/png": "[encoded data removed]",
      "text/plain": [
       "<Figure size 1800x576 with 1 Axes>"
      ]
     },
     "metadata": {},
     "output_type": "display_data"
    }
   ],
   "source": [
    "ValueEstate = data_t['estate'].unique()\n",
    "print(ValueEstate)\n",
    "arrEstate = {}\n",
    "for value in ValueEstate:\n",
    "    arrEstate[value] = MeanPrice('estate',value)\n",
    "sorted_values_estate = sorted(arrEstate.items(), key=operator.itemgetter(1))\n",
    "sorted_dict_estate = {k: v for k, v in sorted_values_estate}\n",
    "plt.figure(figsize=(25,8))\n",
    "plt.title('Biểu đồ cột biểu diễn giá tiền trung bình trên một mét vuông theo loại bất động sản')\n",
    "plt.xlabel('Type')\n",
    "plt.ylabel('Giá tiền trung bình trên một mét vuông')\n",
    "plt.bar(*zip(*sorted_dict_estate.items()))\n",
    "plt.show()\n"
   ]
  },
  {
   "cell_type": "code",
   "execution_count": 477,
   "metadata": {},
   "outputs": [
    {
     "data": {
      "text/html": [
       "<div>\n",
       "<style scoped>\n",
       "    .dataframe tbody tr th:only-of-type {\n",
       "        vertical-align: middle;\n",
       "    }\n",
       "\n",
       "    .dataframe tbody tr th {\n",
       "        vertical-align: top;\n",
       "    }\n",
       "\n",
       "    .dataframe thead th {\n",
       "        text-align: right;\n",
       "    }\n",
       "</style>\n",
       "<table border=\"1\" class=\"dataframe\">\n",
       "  <thead>\n",
       "    <tr style=\"text-align: right;\">\n",
       "      <th></th>\n",
       "      <th>Title</th>\n",
       "      <th>Address</th>\n",
       "      <th>Type</th>\n",
       "      <th>Area</th>\n",
       "      <th>Price</th>\n",
       "      <th>district</th>\n",
       "      <th>estate</th>\n",
       "      <th>price_m2</th>\n",
       "    </tr>\n",
       "  </thead>\n",
       "  <tbody>\n",
       "    <tr>\n",
       "      <th>0</th>\n",
       "      <td>Biệt thự Sunneva Island, vị trí ngã ba sông H...</td>\n",
       "      <td>Phường Hòa Quý,  Ngũ Hành Sơn</td>\n",
       "      <td>Bán nhà biệt thự, liền kề</td>\n",
       "      <td>240.0</td>\n",
       "      <td>36000.0</td>\n",
       "      <td>4</td>\n",
       "      <td>6</td>\n",
       "      <td>150.000000</td>\n",
       "    </tr>\n",
       "    <tr>\n",
       "      <th>1</th>\n",
       "      <td>Độc nhất vô nhị - Biệt thự đảo kim cương - Đô...</td>\n",
       "      <td>Phường Hòa Quý,  Ngũ Hành Sơn</td>\n",
       "      <td>Bán nhà biệt thự, liền kề</td>\n",
       "      <td>300.0</td>\n",
       "      <td>45000.0</td>\n",
       "      <td>4</td>\n",
       "      <td>6</td>\n",
       "      <td>150.000000</td>\n",
       "    </tr>\n",
       "    <tr>\n",
       "      <th>2</th>\n",
       "      <td>Sunneva Island - biệt thự đảo xanh - vùng đất...</td>\n",
       "      <td>Phường Hòa Quý,  Ngũ Hành Sơn</td>\n",
       "      <td>Bán nhà biệt thự, liền kề</td>\n",
       "      <td>240.0</td>\n",
       "      <td>21120.0</td>\n",
       "      <td>4</td>\n",
       "      <td>6</td>\n",
       "      <td>88.000000</td>\n",
       "    </tr>\n",
       "    <tr>\n",
       "      <th>3</th>\n",
       "      <td>Cần bán nhà phố thương mại Regal Pavillon Đà ...</td>\n",
       "      <td>Phường Hòa Cường Nam,  Hải Châu</td>\n",
       "      <td>Bán shophouse, nhà phố thương mại</td>\n",
       "      <td>120.0</td>\n",
       "      <td>18700.0</td>\n",
       "      <td>5</td>\n",
       "      <td>5</td>\n",
       "      <td>155.833333</td>\n",
       "    </tr>\n",
       "    <tr>\n",
       "      <th>4</th>\n",
       "      <td>Sở hữu vĩnh viễn biệt thự Sunneva Island đẳng...</td>\n",
       "      <td>Phường Hòa Quý,  Ngũ Hành Sơn</td>\n",
       "      <td>Bán nhà biệt thự, liền kề</td>\n",
       "      <td>275.0</td>\n",
       "      <td>31000.0</td>\n",
       "      <td>4</td>\n",
       "      <td>6</td>\n",
       "      <td>112.727273</td>\n",
       "    </tr>\n",
       "  </tbody>\n",
       "</table>\n",
       "</div>"
      ],
      "text/plain": [
       "                                               Title  \\\n",
       "0   Biệt thự Sunneva Island, vị trí ngã ba sông H...   \n",
       "1   Độc nhất vô nhị - Biệt thự đảo kim cương - Đô...   \n",
       "2   Sunneva Island - biệt thự đảo xanh - vùng đất...   \n",
       "3   Cần bán nhà phố thương mại Regal Pavillon Đà ...   \n",
       "4   Sở hữu vĩnh viễn biệt thự Sunneva Island đẳng...   \n",
       "\n",
       "                           Address                               Type   Area  \\\n",
       "0    Phường Hòa Quý,  Ngũ Hành Sơn          Bán nhà biệt thự, liền kề  240.0   \n",
       "1    Phường Hòa Quý,  Ngũ Hành Sơn          Bán nhà biệt thự, liền kề  300.0   \n",
       "2    Phường Hòa Quý,  Ngũ Hành Sơn          Bán nhà biệt thự, liền kề  240.0   \n",
       "3  Phường Hòa Cường Nam,  Hải Châu  Bán shophouse, nhà phố thương mại  120.0   \n",
       "4    Phường Hòa Quý,  Ngũ Hành Sơn          Bán nhà biệt thự, liền kề  275.0   \n",
       "\n",
       "     Price district estate    price_m2  \n",
       "0  36000.0        4      6  150.000000  \n",
       "1  45000.0        4      6  150.000000  \n",
       "2  21120.0        4      6   88.000000  \n",
       "3  18700.0        5      5  155.833333  \n",
       "4  31000.0        4      6  112.727273  "
      ]
     },
     "execution_count": 477,
     "metadata": {},
     "output_type": "execute_result"
    }
   ],
   "source": [
    "n = 0\n",
    "for key in sorted_dict_estate:\n",
    "    data_t['estate'][data_t['estate'] == key] = n\n",
    "    n = n + 1\n",
    "data_t.head() \n"
   ]
  },
  {
   "cell_type": "code",
   "execution_count": 478,
   "metadata": {},
   "outputs": [
    {
     "data": {
      "text/plain": [
       "<AxesSubplot:>"
      ]
     },
     "execution_count": 478,
     "metadata": {},
     "output_type": "execute_result"
    },
    {
     "data": {
      "image/png": "[encoded data removed]",
      "text/plain": [
       "<Figure size 576x432 with 2 Axes>"
      ]
     },
     "metadata": {},
     "output_type": "display_data"
    }
   ],
   "source": [
    "data_t['district'] = data_t['district'].astype(int)\n",
    "data_t['estate'] = data_t['estate'].astype(int)\n",
    "plt.figure(figsize=(8,6))\n",
    "sns.heatmap(data_t[['Area','district','estate','price_m2','Price']].corr(),cmap='Blues',annot=True, linewidths=1)\n"
   ]
  },
  {
   "cell_type": "code",
   "execution_count": 479,
   "metadata": {},
   "outputs": [],
   "source": [
    "data_non_oulier = data_t.copy()\n"
   ]
  },
  {
   "cell_type": "markdown",
   "metadata": {},
   "source": [
    "## Train Test Split\n"
   ]
  },
  {
   "cell_type": "code",
   "execution_count": 480,
   "metadata": {},
   "outputs": [],
   "source": [
    "Y=data_t['Price']\n",
    "X=data_t.drop(['Price'],axis=1)\n",
    "\n",
    "x_train,x_test,y_train,y_test=train_test_split(X,Y,test_size=0.2, random_state=101)\n",
    "x_train,x_val,y_train,y_val=train_test_split(x_train,y_train,test_size=0.25, random_state=101)\n"
   ]
  },
  {
   "cell_type": "markdown",
   "metadata": {},
   "source": [
    "## Outlier tập train\n"
   ]
  },
  {
   "cell_type": "code",
   "execution_count": 481,
   "metadata": {},
   "outputs": [
    {
     "data": {
      "text/plain": [
       "<AxesSubplot:title={'center':'Biểu đồ phân bố lấy mẫu của diện tích bất động sản'}, xlabel='Area', ylabel='Frequence'>"
      ]
     },
     "execution_count": 481,
     "metadata": {},
     "output_type": "execute_result"
    },
    {
     "data": {
      "image/png": "[encoded data removed]",
      "text/plain": [
       "<Figure size 2160x576 with 2 Axes>"
      ]
     },
     "metadata": {},
     "output_type": "display_data"
    }
   ],
   "source": [
    "fig, ax = plt.subplots(1, 2, figsize=(30, 8))\n",
    "plt.subplot(1, 2, 1)\n",
    "plt.title(\"Biểu đồ phân bố lấy mẫu của giá tiền bất động sản\")\n",
    "plt.xlabel(\"Price\")\n",
    "plt.ylabel(\"Frequence\")\n",
    "y_train.hist()\n",
    "plt.subplot(1, 2, 2)\n",
    "plt.title(\"Biểu đồ phân bố lấy mẫu của diện tích bất động sản\")\n",
    "plt.xlabel(\"Area\")\n",
    "plt.ylabel(\"Frequence\")\n",
    "x_train.Area.hist()\n"
   ]
  },
  {
   "cell_type": "code",
   "execution_count": 482,
   "metadata": {},
   "outputs": [
    {
     "data": {
      "text/plain": [
       "<AxesSubplot:xlabel='Price'>"
      ]
     },
     "execution_count": 482,
     "metadata": {},
     "output_type": "execute_result"
    },
    {
     "data": {
      "image/png": "[encoded data removed]",
      "text/plain": [
       "<Figure size 2160x576 with 2 Axes>"
      ]
     },
     "metadata": {},
     "output_type": "display_data"
    }
   ],
   "source": [
    "fig, ax = plt.subplots(1, 2, figsize=(30, 8))\n",
    "plt.subplot(1, 2, 1)\n",
    "sns.boxplot(x=x_train['Area'])\n",
    "plt.subplot(1, 2, 2)\n",
    "sns.boxplot(x=y_train)"
   ]
  },
  {
   "cell_type": "code",
   "execution_count": 483,
   "metadata": {},
   "outputs": [
    {
     "data": {
      "text/plain": [
       "<AxesSubplot:title={'center':'Biểu đồ phân bố lấy mẫu của diện tích bất động sản'}, xlabel='Area', ylabel='Frequence'>"
      ]
     },
     "execution_count": 483,
     "metadata": {},
     "output_type": "execute_result"
    },
    {
     "data": {
      "image/png": "[encoded data removed]",
      "text/plain": [
       "<Figure size 2160x576 with 2 Axes>"
      ]
     },
     "metadata": {},
     "output_type": "display_data"
    }
   ],
   "source": [
    "def skewed_outliers(sr: Series):\n",
    "    IQR = sr.quantile(0.75) - sr.quantile(0.25)\n",
    "    upper_bridge = sr.quantile(0.75) + (IQR * 1.5)\n",
    "    sr.loc[sr >= int(upper_bridge)] = int(upper_bridge)\n",
    "    return sr\n",
    "y_train = skewed_outliers(y_train)\n",
    "x_train['Area'] = skewed_outliers(x_train['Area'])\n",
    "fig, ax = plt.subplots(1, 2, figsize=(30, 8))\n",
    "plt.subplot(1, 2, 1)\n",
    "plt.title(\"Biểu đồ phân bố lấy mẫu của giá tiền bất động sản\")\n",
    "plt.xlabel(\"Price\")\n",
    "plt.ylabel(\"Frequence\")\n",
    "y_train.hist(bins=30)\n",
    "plt.subplot(1, 2, 2)\n",
    "plt.title(\"Biểu đồ phân bố lấy mẫu của diện tích bất động sản\")\n",
    "plt.xlabel(\"Area\")\n",
    "plt.ylabel(\"Frequence\")\n",
    "x_train['Area'].hist(bins=30)\n"
   ]
  },
  {
   "cell_type": "code",
   "execution_count": 484,
   "metadata": {},
   "outputs": [
    {
     "data": {
      "text/plain": [
       "<AxesSubplot:xlabel='Area'>"
      ]
     },
     "execution_count": 484,
     "metadata": {},
     "output_type": "execute_result"
    },
    {
     "data": {
      "image/png": "[encoded data removed]",
      "text/plain": [
       "<Figure size 2160x576 with 2 Axes>"
      ]
     },
     "metadata": {},
     "output_type": "display_data"
    }
   ],
   "source": [
    "fig, ax = plt.subplots(1, 2, figsize=(30, 8))\n",
    "plt.subplot(1, 2, 1)\n",
    "sns.boxplot(x=y_train)\n",
    "plt.subplot(1, 2, 2)\n",
    "sns.boxplot(x=x_train['Area'])\n"
   ]
  },
  {
   "cell_type": "markdown",
   "metadata": {},
   "source": [
    "## Chuẩn hoá Min-Max-Scaling "
   ]
  },
  {
   "cell_type": "code",
   "execution_count": 485,
   "metadata": {},
   "outputs": [],
   "source": [
    "def MinMaxScaling(df: DataFrame, column: list):\n",
    "    min_max = MinMaxScaler()\n",
    "    df_minmax = pd.DataFrame(min_max.fit_transform(df[column]), columns=column)\n",
    "    return df_minmax\n"
   ]
  },
  {
   "cell_type": "markdown",
   "metadata": {},
   "source": [
    "### Data_cleaned\n"
   ]
  },
  {
   "cell_type": "code",
   "execution_count": 486,
   "metadata": {},
   "outputs": [
    {
     "data": {
      "text/html": [
       "<div>\n",
       "<style scoped>\n",
       "    .dataframe tbody tr th:only-of-type {\n",
       "        vertical-align: middle;\n",
       "    }\n",
       "\n",
       "    .dataframe tbody tr th {\n",
       "        vertical-align: top;\n",
       "    }\n",
       "\n",
       "    .dataframe thead th {\n",
       "        text-align: right;\n",
       "    }\n",
       "</style>\n",
       "<table border=\"1\" class=\"dataframe\">\n",
       "  <thead>\n",
       "    <tr style=\"text-align: right;\">\n",
       "      <th></th>\n",
       "      <th>Area</th>\n",
       "      <th>price_m2</th>\n",
       "      <th>district</th>\n",
       "      <th>estate</th>\n",
       "      <th>Price</th>\n",
       "    </tr>\n",
       "  </thead>\n",
       "  <tbody>\n",
       "    <tr>\n",
       "      <th>0</th>\n",
       "      <td>0.005490</td>\n",
       "      <td>0.181471</td>\n",
       "      <td>4</td>\n",
       "      <td>6</td>\n",
       "      <td>36000.0</td>\n",
       "    </tr>\n",
       "    <tr>\n",
       "      <th>1</th>\n",
       "      <td>0.006991</td>\n",
       "      <td>0.181471</td>\n",
       "      <td>4</td>\n",
       "      <td>6</td>\n",
       "      <td>45000.0</td>\n",
       "    </tr>\n",
       "    <tr>\n",
       "      <th>2</th>\n",
       "      <td>0.005490</td>\n",
       "      <td>0.106288</td>\n",
       "      <td>4</td>\n",
       "      <td>6</td>\n",
       "      <td>21120.0</td>\n",
       "    </tr>\n",
       "    <tr>\n",
       "      <th>3</th>\n",
       "      <td>0.002489</td>\n",
       "      <td>0.188545</td>\n",
       "      <td>5</td>\n",
       "      <td>5</td>\n",
       "      <td>18700.0</td>\n",
       "    </tr>\n",
       "    <tr>\n",
       "      <th>4</th>\n",
       "      <td>0.006366</td>\n",
       "      <td>0.136273</td>\n",
       "      <td>4</td>\n",
       "      <td>6</td>\n",
       "      <td>31000.0</td>\n",
       "    </tr>\n",
       "    <tr>\n",
       "      <th>...</th>\n",
       "      <td>...</td>\n",
       "      <td>...</td>\n",
       "      <td>...</td>\n",
       "      <td>...</td>\n",
       "      <td>...</td>\n",
       "    </tr>\n",
       "    <tr>\n",
       "      <th>1477</th>\n",
       "      <td>0.002489</td>\n",
       "      <td>0.186524</td>\n",
       "      <td>5</td>\n",
       "      <td>5</td>\n",
       "      <td>18500.0</td>\n",
       "    </tr>\n",
       "    <tr>\n",
       "      <th>1478</th>\n",
       "      <td>0.001989</td>\n",
       "      <td>0.048081</td>\n",
       "      <td>2</td>\n",
       "      <td>2</td>\n",
       "      <td>4000.0</td>\n",
       "    </tr>\n",
       "    <tr>\n",
       "      <th>1479</th>\n",
       "      <td>0.000738</td>\n",
       "      <td>0.071121</td>\n",
       "      <td>4</td>\n",
       "      <td>3</td>\n",
       "      <td>2950.0</td>\n",
       "    </tr>\n",
       "    <tr>\n",
       "      <th>1480</th>\n",
       "      <td>0.003439</td>\n",
       "      <td>0.033729</td>\n",
       "      <td>3</td>\n",
       "      <td>2</td>\n",
       "      <td>4450.0</td>\n",
       "    </tr>\n",
       "    <tr>\n",
       "      <th>1481</th>\n",
       "      <td>0.003239</td>\n",
       "      <td>0.037571</td>\n",
       "      <td>4</td>\n",
       "      <td>2</td>\n",
       "      <td>4700.0</td>\n",
       "    </tr>\n",
       "  </tbody>\n",
       "</table>\n",
       "<p>1482 rows × 5 columns</p>\n",
       "</div>"
      ],
      "text/plain": [
       "          Area  price_m2  district  estate    Price\n",
       "0     0.005490  0.181471         4       6  36000.0\n",
       "1     0.006991  0.181471         4       6  45000.0\n",
       "2     0.005490  0.106288         4       6  21120.0\n",
       "3     0.002489  0.188545         5       5  18700.0\n",
       "4     0.006366  0.136273         4       6  31000.0\n",
       "...        ...       ...       ...     ...      ...\n",
       "1477  0.002489  0.186524         5       5  18500.0\n",
       "1478  0.001989  0.048081         2       2   4000.0\n",
       "1479  0.000738  0.071121         4       3   2950.0\n",
       "1480  0.003439  0.033729         3       2   4450.0\n",
       "1481  0.003239  0.037571         4       2   4700.0\n",
       "\n",
       "[1482 rows x 5 columns]"
      ]
     },
     "execution_count": 486,
     "metadata": {},
     "output_type": "execute_result"
    }
   ],
   "source": [
    "data_scaler_first = MinMaxScaling(data_non_oulier, ['Area', 'price_m2'])\n",
    "data_scaler_first['district'] = data_non_oulier['district']\n",
    "data_scaler_first['estate'] = data_non_oulier['estate']\n",
    "data_scaler_first['Price'] = data_non_oulier['Price']\n",
    "data_scaler_first\n"
   ]
  },
  {
   "cell_type": "markdown",
   "metadata": {},
   "source": [
    "### Train"
   ]
  },
  {
   "cell_type": "code",
   "execution_count": 487,
   "metadata": {},
   "outputs": [
    {
     "data": {
      "text/html": [
       "<div>\n",
       "<style scoped>\n",
       "    .dataframe tbody tr th:only-of-type {\n",
       "        vertical-align: middle;\n",
       "    }\n",
       "\n",
       "    .dataframe tbody tr th {\n",
       "        vertical-align: top;\n",
       "    }\n",
       "\n",
       "    .dataframe thead th {\n",
       "        text-align: right;\n",
       "    }\n",
       "</style>\n",
       "<table border=\"1\" class=\"dataframe\">\n",
       "  <thead>\n",
       "    <tr style=\"text-align: right;\">\n",
       "      <th></th>\n",
       "      <th>Area</th>\n",
       "      <th>price_m2</th>\n",
       "      <th>district</th>\n",
       "      <th>estate</th>\n",
       "      <th>Price</th>\n",
       "    </tr>\n",
       "  </thead>\n",
       "  <tbody>\n",
       "    <tr>\n",
       "      <th>0</th>\n",
       "      <td>1.000000</td>\n",
       "      <td>0.181440</td>\n",
       "      <td>6</td>\n",
       "      <td>2</td>\n",
       "      <td>30961.0</td>\n",
       "    </tr>\n",
       "    <tr>\n",
       "      <th>1</th>\n",
       "      <td>0.391304</td>\n",
       "      <td>0.129137</td>\n",
       "      <td>3</td>\n",
       "      <td>7</td>\n",
       "      <td>14000.0</td>\n",
       "    </tr>\n",
       "    <tr>\n",
       "      <th>2</th>\n",
       "      <td>0.181159</td>\n",
       "      <td>0.080106</td>\n",
       "      <td>5</td>\n",
       "      <td>4</td>\n",
       "      <td>4850.0</td>\n",
       "    </tr>\n",
       "    <tr>\n",
       "      <th>3</th>\n",
       "      <td>0.260870</td>\n",
       "      <td>0.051070</td>\n",
       "      <td>1</td>\n",
       "      <td>2</td>\n",
       "      <td>4037.0</td>\n",
       "    </tr>\n",
       "    <tr>\n",
       "      <th>4</th>\n",
       "      <td>0.278986</td>\n",
       "      <td>0.039556</td>\n",
       "      <td>4</td>\n",
       "      <td>2</td>\n",
       "      <td>3300.0</td>\n",
       "    </tr>\n",
       "    <tr>\n",
       "      <th>...</th>\n",
       "      <td>...</td>\n",
       "      <td>...</td>\n",
       "      <td>...</td>\n",
       "      <td>...</td>\n",
       "      <td>...</td>\n",
       "    </tr>\n",
       "    <tr>\n",
       "      <th>883</th>\n",
       "      <td>0.134058</td>\n",
       "      <td>0.191545</td>\n",
       "      <td>4</td>\n",
       "      <td>4</td>\n",
       "      <td>9500.0</td>\n",
       "    </tr>\n",
       "    <tr>\n",
       "      <th>884</th>\n",
       "      <td>0.931159</td>\n",
       "      <td>0.114742</td>\n",
       "      <td>1</td>\n",
       "      <td>6</td>\n",
       "      <td>26600.0</td>\n",
       "    </tr>\n",
       "    <tr>\n",
       "      <th>885</th>\n",
       "      <td>0.152174</td>\n",
       "      <td>0.139462</td>\n",
       "      <td>6</td>\n",
       "      <td>7</td>\n",
       "      <td>7500.0</td>\n",
       "    </tr>\n",
       "    <tr>\n",
       "      <th>886</th>\n",
       "      <td>0.550725</td>\n",
       "      <td>0.172778</td>\n",
       "      <td>6</td>\n",
       "      <td>2</td>\n",
       "      <td>25000.0</td>\n",
       "    </tr>\n",
       "    <tr>\n",
       "      <th>887</th>\n",
       "      <td>0.655797</td>\n",
       "      <td>0.072298</td>\n",
       "      <td>2</td>\n",
       "      <td>2</td>\n",
       "      <td>12240.0</td>\n",
       "    </tr>\n",
       "  </tbody>\n",
       "</table>\n",
       "<p>888 rows × 5 columns</p>\n",
       "</div>"
      ],
      "text/plain": [
       "         Area  price_m2  district  estate    Price\n",
       "0    1.000000  0.181440         6       2  30961.0\n",
       "1    0.391304  0.129137         3       7  14000.0\n",
       "2    0.181159  0.080106         5       4   4850.0\n",
       "3    0.260870  0.051070         1       2   4037.0\n",
       "4    0.278986  0.039556         4       2   3300.0\n",
       "..        ...       ...       ...     ...      ...\n",
       "883  0.134058  0.191545         4       4   9500.0\n",
       "884  0.931159  0.114742         1       6  26600.0\n",
       "885  0.152174  0.139462         6       7   7500.0\n",
       "886  0.550725  0.172778         6       2  25000.0\n",
       "887  0.655797  0.072298         2       2  12240.0\n",
       "\n",
       "[888 rows x 5 columns]"
      ]
     },
     "execution_count": 487,
     "metadata": {},
     "output_type": "execute_result"
    }
   ],
   "source": [
    "x_train_new = x_train.copy()\n",
    "x_train_new['Price'] = y_train\n",
    "data_scaler_train = MinMaxScaling(x_train_new, ['Area', 'price_m2'])\n",
    "x_train_new.reset_index(inplace=True)\n",
    "data_scaler_train['district'] = x_train_new['district']\n",
    "data_scaler_train['estate'] = x_train_new['estate']\n",
    "data_scaler_train['Price'] = x_train_new['Price']\n",
    "data_scaler_train\n"
   ]
  },
  {
   "cell_type": "markdown",
   "metadata": {},
   "source": [
    "### Val"
   ]
  },
  {
   "cell_type": "code",
   "execution_count": 488,
   "metadata": {},
   "outputs": [
    {
     "data": {
      "text/html": [
       "<div>\n",
       "<style scoped>\n",
       "    .dataframe tbody tr th:only-of-type {\n",
       "        vertical-align: middle;\n",
       "    }\n",
       "\n",
       "    .dataframe tbody tr th {\n",
       "        vertical-align: top;\n",
       "    }\n",
       "\n",
       "    .dataframe thead th {\n",
       "        text-align: right;\n",
       "    }\n",
       "</style>\n",
       "<table border=\"1\" class=\"dataframe\">\n",
       "  <thead>\n",
       "    <tr style=\"text-align: right;\">\n",
       "      <th></th>\n",
       "      <th>Area</th>\n",
       "      <th>price_m2</th>\n",
       "      <th>district</th>\n",
       "      <th>estate</th>\n",
       "      <th>Price</th>\n",
       "    </tr>\n",
       "  </thead>\n",
       "  <tbody>\n",
       "    <tr>\n",
       "      <th>0</th>\n",
       "      <td>0.002754</td>\n",
       "      <td>0.030038</td>\n",
       "      <td>4</td>\n",
       "      <td>2</td>\n",
       "      <td>2000.0</td>\n",
       "    </tr>\n",
       "    <tr>\n",
       "      <th>1</th>\n",
       "      <td>0.001699</td>\n",
       "      <td>0.047777</td>\n",
       "      <td>6</td>\n",
       "      <td>1</td>\n",
       "      <td>2350.0</td>\n",
       "    </tr>\n",
       "    <tr>\n",
       "      <th>2</th>\n",
       "      <td>0.000000</td>\n",
       "      <td>0.091379</td>\n",
       "      <td>4</td>\n",
       "      <td>3</td>\n",
       "      <td>2000.0</td>\n",
       "    </tr>\n",
       "    <tr>\n",
       "      <th>3</th>\n",
       "      <td>0.003214</td>\n",
       "      <td>0.175341</td>\n",
       "      <td>2</td>\n",
       "      <td>2</td>\n",
       "      <td>12750.0</td>\n",
       "    </tr>\n",
       "    <tr>\n",
       "      <th>4</th>\n",
       "      <td>0.003214</td>\n",
       "      <td>0.137248</td>\n",
       "      <td>5</td>\n",
       "      <td>7</td>\n",
       "      <td>9990.0</td>\n",
       "    </tr>\n",
       "    <tr>\n",
       "      <th>...</th>\n",
       "      <td>...</td>\n",
       "      <td>...</td>\n",
       "      <td>...</td>\n",
       "      <td>...</td>\n",
       "      <td>...</td>\n",
       "    </tr>\n",
       "    <tr>\n",
       "      <th>292</th>\n",
       "      <td>0.005509</td>\n",
       "      <td>0.114383</td>\n",
       "      <td>5</td>\n",
       "      <td>5</td>\n",
       "      <td>12500.0</td>\n",
       "    </tr>\n",
       "    <tr>\n",
       "      <th>293</th>\n",
       "      <td>0.002112</td>\n",
       "      <td>0.078909</td>\n",
       "      <td>1</td>\n",
       "      <td>7</td>\n",
       "      <td>4380.0</td>\n",
       "    </tr>\n",
       "    <tr>\n",
       "      <th>294</th>\n",
       "      <td>0.008263</td>\n",
       "      <td>0.143958</td>\n",
       "      <td>4</td>\n",
       "      <td>2</td>\n",
       "      <td>22000.0</td>\n",
       "    </tr>\n",
       "    <tr>\n",
       "      <th>295</th>\n",
       "      <td>0.005233</td>\n",
       "      <td>0.090421</td>\n",
       "      <td>6</td>\n",
       "      <td>7</td>\n",
       "      <td>9500.0</td>\n",
       "    </tr>\n",
       "    <tr>\n",
       "      <th>296</th>\n",
       "      <td>0.004912</td>\n",
       "      <td>0.028079</td>\n",
       "      <td>1</td>\n",
       "      <td>2</td>\n",
       "      <td>2850.0</td>\n",
       "    </tr>\n",
       "  </tbody>\n",
       "</table>\n",
       "<p>297 rows × 5 columns</p>\n",
       "</div>"
      ],
      "text/plain": [
       "         Area  price_m2  district  estate    Price\n",
       "0    0.002754  0.030038         4       2   2000.0\n",
       "1    0.001699  0.047777         6       1   2350.0\n",
       "2    0.000000  0.091379         4       3   2000.0\n",
       "3    0.003214  0.175341         2       2  12750.0\n",
       "4    0.003214  0.137248         5       7   9990.0\n",
       "..        ...       ...       ...     ...      ...\n",
       "292  0.005509  0.114383         5       5  12500.0\n",
       "293  0.002112  0.078909         1       7   4380.0\n",
       "294  0.008263  0.143958         4       2  22000.0\n",
       "295  0.005233  0.090421         6       7   9500.0\n",
       "296  0.004912  0.028079         1       2   2850.0\n",
       "\n",
       "[297 rows x 5 columns]"
      ]
     },
     "execution_count": 488,
     "metadata": {},
     "output_type": "execute_result"
    }
   ],
   "source": [
    "x_val_new = x_val.copy()\n",
    "x_val_new['Price'] = y_val\n",
    "data_scaler_val = MinMaxScaling(x_val_new, ['Area', 'price_m2'])\n",
    "x_val_new.reset_index(inplace=True)\n",
    "data_scaler_val['district'] = x_val_new['district']\n",
    "data_scaler_val['estate'] = x_val_new['estate']\n",
    "data_scaler_val['Price'] = x_val_new['Price']\n",
    "data_scaler_val\n"
   ]
  },
  {
   "cell_type": "markdown",
   "metadata": {},
   "source": [
    "### Test"
   ]
  },
  {
   "cell_type": "code",
   "execution_count": 489,
   "metadata": {},
   "outputs": [
    {
     "data": {
      "text/html": [
       "<div>\n",
       "<style scoped>\n",
       "    .dataframe tbody tr th:only-of-type {\n",
       "        vertical-align: middle;\n",
       "    }\n",
       "\n",
       "    .dataframe tbody tr th {\n",
       "        vertical-align: top;\n",
       "    }\n",
       "\n",
       "    .dataframe thead th {\n",
       "        text-align: right;\n",
       "    }\n",
       "</style>\n",
       "<table border=\"1\" class=\"dataframe\">\n",
       "  <thead>\n",
       "    <tr style=\"text-align: right;\">\n",
       "      <th></th>\n",
       "      <th>Area</th>\n",
       "      <th>price_m2</th>\n",
       "      <th>district</th>\n",
       "      <th>estate</th>\n",
       "      <th>Price</th>\n",
       "    </tr>\n",
       "  </thead>\n",
       "  <tbody>\n",
       "    <tr>\n",
       "      <th>0</th>\n",
       "      <td>0.154317</td>\n",
       "      <td>0.072901</td>\n",
       "      <td>2</td>\n",
       "      <td>2</td>\n",
       "      <td>340450.0</td>\n",
       "    </tr>\n",
       "    <tr>\n",
       "      <th>1</th>\n",
       "      <td>0.001989</td>\n",
       "      <td>0.050890</td>\n",
       "      <td>2</td>\n",
       "      <td>7</td>\n",
       "      <td>3850.0</td>\n",
       "    </tr>\n",
       "    <tr>\n",
       "      <th>2</th>\n",
       "      <td>0.008742</td>\n",
       "      <td>0.050728</td>\n",
       "      <td>4</td>\n",
       "      <td>6</td>\n",
       "      <td>14200.0</td>\n",
       "    </tr>\n",
       "    <tr>\n",
       "      <th>3</th>\n",
       "      <td>0.002989</td>\n",
       "      <td>0.049080</td>\n",
       "      <td>4</td>\n",
       "      <td>2</td>\n",
       "      <td>5200.0</td>\n",
       "    </tr>\n",
       "    <tr>\n",
       "      <th>4</th>\n",
       "      <td>0.001989</td>\n",
       "      <td>0.063563</td>\n",
       "      <td>4</td>\n",
       "      <td>2</td>\n",
       "      <td>4800.0</td>\n",
       "    </tr>\n",
       "    <tr>\n",
       "      <th>...</th>\n",
       "      <td>...</td>\n",
       "      <td>...</td>\n",
       "      <td>...</td>\n",
       "      <td>...</td>\n",
       "      <td>...</td>\n",
       "    </tr>\n",
       "    <tr>\n",
       "      <th>292</th>\n",
       "      <td>0.000888</td>\n",
       "      <td>0.132929</td>\n",
       "      <td>6</td>\n",
       "      <td>7</td>\n",
       "      <td>5600.0</td>\n",
       "    </tr>\n",
       "    <tr>\n",
       "      <th>293</th>\n",
       "      <td>0.003419</td>\n",
       "      <td>0.042556</td>\n",
       "      <td>4</td>\n",
       "      <td>2</td>\n",
       "      <td>5070.0</td>\n",
       "    </tr>\n",
       "    <tr>\n",
       "      <th>294</th>\n",
       "      <td>0.003739</td>\n",
       "      <td>0.127436</td>\n",
       "      <td>6</td>\n",
       "      <td>7</td>\n",
       "      <td>16300.0</td>\n",
       "    </tr>\n",
       "    <tr>\n",
       "      <th>295</th>\n",
       "      <td>0.000863</td>\n",
       "      <td>0.043190</td>\n",
       "      <td>1</td>\n",
       "      <td>5</td>\n",
       "      <td>1800.0</td>\n",
       "    </tr>\n",
       "    <tr>\n",
       "      <th>296</th>\n",
       "      <td>0.003654</td>\n",
       "      <td>0.057583</td>\n",
       "      <td>2</td>\n",
       "      <td>2</td>\n",
       "      <td>7250.0</td>\n",
       "    </tr>\n",
       "  </tbody>\n",
       "</table>\n",
       "<p>297 rows × 5 columns</p>\n",
       "</div>"
      ],
      "text/plain": [
       "         Area  price_m2  district  estate     Price\n",
       "0    0.154317  0.072901         2       2  340450.0\n",
       "1    0.001989  0.050890         2       7    3850.0\n",
       "2    0.008742  0.050728         4       6   14200.0\n",
       "3    0.002989  0.049080         4       2    5200.0\n",
       "4    0.001989  0.063563         4       2    4800.0\n",
       "..        ...       ...       ...     ...       ...\n",
       "292  0.000888  0.132929         6       7    5600.0\n",
       "293  0.003419  0.042556         4       2    5070.0\n",
       "294  0.003739  0.127436         6       7   16300.0\n",
       "295  0.000863  0.043190         1       5    1800.0\n",
       "296  0.003654  0.057583         2       2    7250.0\n",
       "\n",
       "[297 rows x 5 columns]"
      ]
     },
     "execution_count": 489,
     "metadata": {},
     "output_type": "execute_result"
    }
   ],
   "source": [
    "x_test_new = x_test.copy()\n",
    "x_test_new['Price'] = y_test\n",
    "data_scaler_test = MinMaxScaling(x_test_new, ['Area', 'price_m2'])\n",
    "x_test_new.reset_index(inplace=True)\n",
    "data_scaler_test['district'] = x_test_new['district']\n",
    "data_scaler_test['estate'] = x_test_new['estate']\n",
    "data_scaler_test['Price'] = x_test_new['Price']\n",
    "data_scaler_test\n"
   ]
  },
  {
   "cell_type": "markdown",
   "metadata": {},
   "source": [
    "# Modeling\n"
   ]
  },
  {
   "cell_type": "markdown",
   "metadata": {},
   "source": [
    "Khởi tạo mô hình\n"
   ]
  },
  {
   "cell_type": "code",
   "execution_count": 490,
   "metadata": {},
   "outputs": [],
   "source": [
    "random_state = None"
   ]
  },
  {
   "cell_type": "code",
   "execution_count": 491,
   "metadata": {},
   "outputs": [],
   "source": [
    "models = {\n",
    "    \"LinearRegression\": LinearRegression(),\n",
    "    \"SVR\": SVR(),\n",
    "    \"RandomForest\": RandomForestRegressor(random_state=random_state),\n",
    "    \"GradientBoost\": GradientBoostingRegressor(random_state=random_state),\n",
    "    \"AdaBoost\": AdaBoostRegressor(random_state=random_state),\n",
    "}\n"
   ]
  },
  {
   "cell_type": "code",
   "execution_count": 492,
   "metadata": {},
   "outputs": [],
   "source": [
    "def training_models(models, x_train, y_train, x_val, y_val):\n",
    "    train_score = []\n",
    "    validate_score = []\n",
    "\n",
    "    for name, model in models.items():\n",
    "        model.fit(x_train, y_train)\n",
    "        train_pred = model.predict(x_train)\n",
    "        train_score.append(mean_squared_error(y_train, train_pred, squared=False))\n",
    "\n",
    "        validate_pred = model.predict(x_val)\n",
    "        validate_score.append(mean_squared_error(y_val, validate_pred, squared=False))\n",
    "        \n",
    "    return models, train_score, validate_score"
   ]
  },
  {
   "cell_type": "code",
   "execution_count": 493,
   "metadata": {},
   "outputs": [],
   "source": [
    "def testing_models(models, x_test, y_test):\n",
    "    test_score = []\n",
    "    for name, model in models.items():\n",
    "        test_pred = model.predict(x_test)\n",
    "        test_score.append(mean_squared_error(y_test, test_pred, squared=False))\n",
    "    return test_score"
   ]
  },
  {
   "cell_type": "markdown",
   "metadata": {},
   "source": [
    "Khởi tạo mảng lưu giá trị RMSE của các tập dữ liệu.\n"
   ]
  },
  {
   "cell_type": "code",
   "execution_count": 494,
   "metadata": {},
   "outputs": [],
   "source": [
    "result_train = []\n",
    "result_val = []\n",
    "result_test = []"
   ]
  },
  {
   "cell_type": "markdown",
   "metadata": {},
   "source": [
    "Data không tiền xử lí."
   ]
  },
  {
   "cell_type": "code",
   "execution_count": 495,
   "metadata": {},
   "outputs": [],
   "source": [
    "x_train, x_test, y_train, y_test = train_test_split(\n",
    "    data_non_oulier[['Area', 'district', 'estate', 'price_m2']],\n",
    "    data_non_oulier['Price'],\n",
    "    test_size=0.2,\n",
    "    random_state=101)\n",
    "x_train, x_val, y_train, y_val = train_test_split(x_train, y_train, test_size=0.25, random_state=101)"
   ]
  },
  {
   "cell_type": "code",
   "execution_count": 496,
   "metadata": {},
   "outputs": [],
   "source": [
    "models_trained, train_score, validate_score = training_models(models, x_train, y_train, x_val, y_val)\n",
    "test_score = testing_models(models_trained, x_test, y_test)\n",
    "result_train.append(train_score)\n",
    "result_val.append(validate_score)\n",
    "result_test.append(test_score)\n"
   ]
  },
  {
   "cell_type": "markdown",
   "metadata": {},
   "source": [
    "Data có chuẩn hóa."
   ]
  },
  {
   "cell_type": "code",
   "execution_count": 497,
   "metadata": {},
   "outputs": [],
   "source": [
    "standard_x_train, standard_x_test, standard_y_train, standard_y_test = train_test_split(\n",
    "    data_scaler_first.drop(columns=['Price'], axis=1),\n",
    "    data_scaler_first['Price'],\n",
    "    test_size=0.2,\n",
    "    random_state=101)\n",
    "standard_x_train, standard_x_val, standard_y_train, standard_y_val = train_test_split(\n",
    "    standard_x_train, standard_y_train, test_size=0.25, random_state=101)\n"
   ]
  },
  {
   "cell_type": "code",
   "execution_count": 498,
   "metadata": {},
   "outputs": [],
   "source": [
    "models_trained, train_score, validate_score = training_models(models, standard_x_train, standard_y_train, standard_x_val, standard_y_val)\n",
    "test_score = testing_models(models_trained, standard_x_test, standard_y_test)\n",
    "result_train.append(train_score)\n",
    "result_val.append(validate_score)\n",
    "result_test.append(test_score)\n"
   ]
  },
  {
   "cell_type": "markdown",
   "metadata": {},
   "source": [
    "Data được xử lí ngoại lệ ở tập train, chuẩn hóa ở cả 3 tập."
   ]
  },
  {
   "cell_type": "code",
   "execution_count": 499,
   "metadata": {},
   "outputs": [],
   "source": [
    "models_trained, train_score, validate_score = training_models(\n",
    "    models, \n",
    "    data_scaler_train.drop(columns=['Price'], axis=1), \n",
    "    data_scaler_train['Price'], \n",
    "    data_scaler_val.drop(columns=['Price'], axis=1), \n",
    "    data_scaler_val['Price'])\n"
   ]
  },
  {
   "cell_type": "code",
   "execution_count": 500,
   "metadata": {},
   "outputs": [],
   "source": [
    "test_score = testing_models(\n",
    "    models_trained, \n",
    "    data_scaler_test.drop(columns=['Price'], axis=1), \n",
    "    data_scaler_test['Price']\n",
    ")\n",
    "result_train.append(train_score)\n",
    "result_val.append(validate_score)\n",
    "result_test.append(test_score)\n"
   ]
  },
  {
   "cell_type": "code",
   "execution_count": 501,
   "metadata": {},
   "outputs": [
    {
     "data": {
      "text/html": [
       "<div>\n",
       "<style scoped>\n",
       "    .dataframe tbody tr th:only-of-type {\n",
       "        vertical-align: middle;\n",
       "    }\n",
       "\n",
       "    .dataframe tbody tr th {\n",
       "        vertical-align: top;\n",
       "    }\n",
       "\n",
       "    .dataframe thead th {\n",
       "        text-align: right;\n",
       "    }\n",
       "</style>\n",
       "<table border=\"1\" class=\"dataframe\">\n",
       "  <thead>\n",
       "    <tr style=\"text-align: right;\">\n",
       "      <th></th>\n",
       "      <th>LinearRegression</th>\n",
       "      <th>SVR</th>\n",
       "      <th>RandomForest</th>\n",
       "      <th>GradientBoost</th>\n",
       "      <th>AdaBoost</th>\n",
       "    </tr>\n",
       "  </thead>\n",
       "  <tbody>\n",
       "    <tr>\n",
       "      <th>Train non preprocess</th>\n",
       "      <td>32909.672101</td>\n",
       "      <td>55147.703808</td>\n",
       "      <td>8337.792296</td>\n",
       "      <td>1604.357525</td>\n",
       "      <td>9031.635250</td>\n",
       "    </tr>\n",
       "    <tr>\n",
       "      <th>Train scale</th>\n",
       "      <td>32909.672101</td>\n",
       "      <td>55138.983749</td>\n",
       "      <td>7490.614297</td>\n",
       "      <td>1604.357525</td>\n",
       "      <td>22070.963388</td>\n",
       "    </tr>\n",
       "    <tr>\n",
       "      <th>Train scale and outliers</th>\n",
       "      <td>4312.144499</td>\n",
       "      <td>11125.257440</td>\n",
       "      <td>630.253338</td>\n",
       "      <td>871.913925</td>\n",
       "      <td>2918.300057</td>\n",
       "    </tr>\n",
       "  </tbody>\n",
       "</table>\n",
       "</div>"
      ],
      "text/plain": [
       "                           LinearRegression           SVR  RandomForest  \\\n",
       "Train non preprocess           32909.672101  55147.703808   8337.792296   \n",
       "Train scale                    32909.672101  55138.983749   7490.614297   \n",
       "Train scale and outliers        4312.144499  11125.257440    630.253338   \n",
       "\n",
       "                           GradientBoost      AdaBoost  \n",
       "Train non preprocess         1604.357525   9031.635250  \n",
       "Train scale                  1604.357525  22070.963388  \n",
       "Train scale and outliers      871.913925   2918.300057  "
      ]
     },
     "metadata": {},
     "output_type": "display_data"
    },
    {
     "data": {
      "text/html": [
       "<div>\n",
       "<style scoped>\n",
       "    .dataframe tbody tr th:only-of-type {\n",
       "        vertical-align: middle;\n",
       "    }\n",
       "\n",
       "    .dataframe tbody tr th {\n",
       "        vertical-align: top;\n",
       "    }\n",
       "\n",
       "    .dataframe thead th {\n",
       "        text-align: right;\n",
       "    }\n",
       "</style>\n",
       "<table border=\"1\" class=\"dataframe\">\n",
       "  <thead>\n",
       "    <tr style=\"text-align: right;\">\n",
       "      <th></th>\n",
       "      <th>LinearRegression</th>\n",
       "      <th>SVR</th>\n",
       "      <th>RandomForest</th>\n",
       "      <th>GradientBoost</th>\n",
       "      <th>AdaBoost</th>\n",
       "    </tr>\n",
       "  </thead>\n",
       "  <tbody>\n",
       "    <tr>\n",
       "      <th>Validate non preprocess</th>\n",
       "      <td>34203.665193</td>\n",
       "      <td>50394.203858</td>\n",
       "      <td>11938.859234</td>\n",
       "      <td>11052.665156</td>\n",
       "      <td>14742.750689</td>\n",
       "    </tr>\n",
       "    <tr>\n",
       "      <th>Validate scale</th>\n",
       "      <td>34203.665193</td>\n",
       "      <td>50392.137792</td>\n",
       "      <td>11335.807693</td>\n",
       "      <td>9155.526964</td>\n",
       "      <td>24273.126430</td>\n",
       "    </tr>\n",
       "    <tr>\n",
       "      <th>Validate scale and outliers</th>\n",
       "      <td>48945.127981</td>\n",
       "      <td>50392.416367</td>\n",
       "      <td>48212.773045</td>\n",
       "      <td>48693.614234</td>\n",
       "      <td>47162.503776</td>\n",
       "    </tr>\n",
       "  </tbody>\n",
       "</table>\n",
       "</div>"
      ],
      "text/plain": [
       "                              LinearRegression           SVR  RandomForest  \\\n",
       "Validate non preprocess           34203.665193  50394.203858  11938.859234   \n",
       "Validate scale                    34203.665193  50392.137792  11335.807693   \n",
       "Validate scale and outliers       48945.127981  50392.416367  48212.773045   \n",
       "\n",
       "                              GradientBoost      AdaBoost  \n",
       "Validate non preprocess        11052.665156  14742.750689  \n",
       "Validate scale                  9155.526964  24273.126430  \n",
       "Validate scale and outliers    48693.614234  47162.503776  "
      ]
     },
     "metadata": {},
     "output_type": "display_data"
    },
    {
     "data": {
      "text/html": [
       "<div>\n",
       "<style scoped>\n",
       "    .dataframe tbody tr th:only-of-type {\n",
       "        vertical-align: middle;\n",
       "    }\n",
       "\n",
       "    .dataframe tbody tr th {\n",
       "        vertical-align: top;\n",
       "    }\n",
       "\n",
       "    .dataframe thead th {\n",
       "        text-align: right;\n",
       "    }\n",
       "</style>\n",
       "<table border=\"1\" class=\"dataframe\">\n",
       "  <thead>\n",
       "    <tr style=\"text-align: right;\">\n",
       "      <th></th>\n",
       "      <th>LinearRegression</th>\n",
       "      <th>SVR</th>\n",
       "      <th>RandomForest</th>\n",
       "      <th>GradientBoost</th>\n",
       "      <th>AdaBoost</th>\n",
       "    </tr>\n",
       "  </thead>\n",
       "  <tbody>\n",
       "    <tr>\n",
       "      <th>Test non preprocess</th>\n",
       "      <td>50788.141738</td>\n",
       "      <td>65563.910377</td>\n",
       "      <td>22917.278450</td>\n",
       "      <td>15781.622767</td>\n",
       "      <td>21180.808825</td>\n",
       "    </tr>\n",
       "    <tr>\n",
       "      <th>Test scale</th>\n",
       "      <td>50788.141738</td>\n",
       "      <td>65567.962479</td>\n",
       "      <td>22194.178381</td>\n",
       "      <td>15537.085065</td>\n",
       "      <td>29576.133258</td>\n",
       "    </tr>\n",
       "    <tr>\n",
       "      <th>Test scale and outliers</th>\n",
       "      <td>64370.302072</td>\n",
       "      <td>65568.326279</td>\n",
       "      <td>63654.445938</td>\n",
       "      <td>64024.519472</td>\n",
       "      <td>62826.433896</td>\n",
       "    </tr>\n",
       "  </tbody>\n",
       "</table>\n",
       "</div>"
      ],
      "text/plain": [
       "                          LinearRegression           SVR  RandomForest  \\\n",
       "Test non preprocess           50788.141738  65563.910377  22917.278450   \n",
       "Test scale                    50788.141738  65567.962479  22194.178381   \n",
       "Test scale and outliers       64370.302072  65568.326279  63654.445938   \n",
       "\n",
       "                          GradientBoost      AdaBoost  \n",
       "Test non preprocess        15781.622767  21180.808825  \n",
       "Test scale                 15537.085065  29576.133258  \n",
       "Test scale and outliers    64024.519472  62826.433896  "
      ]
     },
     "metadata": {},
     "output_type": "display_data"
    }
   ],
   "source": [
    "result_train_df = DataFrame(\n",
    "    result_train,\n",
    "    columns=[name for name, _ in models.items()],\n",
    "    index=['Train non preprocess', 'Train scale', 'Train scale and outliers ']\n",
    ")\n",
    "display(result_train_df)\n",
    "\n",
    "result_val_df = DataFrame(\n",
    "    result_val,\n",
    "    columns=[name for name, _ in models.items()],\n",
    "    index=['Validate non preprocess', 'Validate scale', 'Validate scale and outliers ']\n",
    ")\n",
    "display(result_val_df)\n",
    "\n",
    "result_test_df = DataFrame(\n",
    "    result_test,\n",
    "    columns=[name for name, _ in models.items()],\n",
    "    index=['Test non preprocess', 'Test scale', 'Test scale and outliers ']\n",
    ")\n",
    "display(result_test_df)\n"
   ]
  },
  {
   "cell_type": "markdown",
   "metadata": {},
   "source": [
    "-   Dữ liệu sau khi được xử lí ngoại lệ kết hợp chuẩn hóa có giá trị chênh lệch trung bình của giá dự đoán từ mô hình và giá trị thực tế (RMSE) gấp từ 2 - 4 lần so với dữ liệu không tiền xử lí ở các mô hình Random Forest, Gradient Boost, AdaBoost. Vì vậy không thể dùng dữ liệu sau khi xử lí ngoại lệ kết hợp chuẩn hóa để sử dụng cho các mô hình này được.\n",
    "-   So với dữ liệu không được tiền xử lí, dữ liệu được chuẩn hóa có RMSE thấp hơn ở 3/5 mô hình  nên có thể sử dụng dữ liệu đã chuẩn hóa trong trường hợp sử dụng các mô hình Gradient Boost, AdaBoost.\n"
   ]
  },
  {
   "cell_type": "code",
   "execution_count": 502,
   "metadata": {},
   "outputs": [
    {
     "data": {
      "application/vnd.plotly.v1+json": {
       "config": {
        "plotlyServerURL": "https://plot.ly"
       },
       "data": [
        {
         "alignmentgroup": "True",
         "hovertemplate": "Mô hình=%{x}<br>RMSE (triệu VNĐ)=%{marker.color}<extra></extra>",
         "legendgroup": "",
         "marker": {
          "color": [
           65567.96247854826,
           50788.14173787625,
           29576.13325843347,
           22194.178380640464,
           15537.085065354475
          ],
          "coloraxis": "coloraxis",
          "pattern": {
           "shape": ""
          }
         },
         "name": "",
         "offsetgroup": "",
         "orientation": "v",
         "showlegend": false,
         "textposition": "auto",
         "type": "bar",
         "x": [
          "SVR",
          "LinearRegression",
          "AdaBoost",
          "RandomForest",
          "GradientBoost"
         ],
         "xaxis": "x",
         "y": [
          65567.96247854826,
          50788.14173787625,
          29576.13325843347,
          22194.178380640464,
          15537.085065354475
         ],
         "yaxis": "y"
        }
       ],
       "layout": {
        "bargap": 0.5,
        "barmode": "relative",
        "coloraxis": {
         "colorbar": {
          "title": {
           "text": "RMSE (triệu VNĐ)"
          }
         },
         "colorscale": [
          [
           0,
           "#0d0887"
          ],
          [
           0.1111111111111111,
           "#46039f"
          ],
          [
           0.2222222222222222,
           "#7201a8"
          ],
          [
           0.3333333333333333,
           "#9c179e"
          ],
          [
           0.4444444444444444,
           "#bd3786"
          ],
          [
           0.5555555555555556,
           "#d8576b"
          ],
          [
           0.6666666666666666,
           "#ed7953"
          ],
          [
           0.7777777777777778,
           "#fb9f3a"
          ],
          [
           0.8888888888888888,
           "#fdca26"
          ],
          [
           1,
           "#f0f921"
          ]
         ]
        },
        "height": 500,
        "legend": {
         "tracegroupgap": 0
        },
        "template": {
         "data": {
          "bar": [
           {
            "error_x": {
             "color": "#f2f5fa"
            },
            "error_y": {
             "color": "#f2f5fa"
            },
            "marker": {
             "line": {
              "color": "rgb(17,17,17)",
              "width": 0.5
             },
             "pattern": {
              "fillmode": "overlay",
              "size": 10,
              "solidity": 0.2
             }
            },
            "type": "bar"
           }
          ],
          "barpolar": [
           {
            "marker": {
             "line": {
              "color": "rgb(17,17,17)",
              "width": 0.5
             },
             "pattern": {
              "fillmode": "overlay",
              "size": 10,
              "solidity": 0.2
             }
            },
            "type": "barpolar"
           }
          ],
          "carpet": [
           {
            "aaxis": {
             "endlinecolor": "#A2B1C6",
             "gridcolor": "#506784",
             "linecolor": "#506784",
             "minorgridcolor": "#506784",
             "startlinecolor": "#A2B1C6"
            },
            "baxis": {
             "endlinecolor": "#A2B1C6",
             "gridcolor": "#506784",
             "linecolor": "#506784",
             "minorgridcolor": "#506784",
             "startlinecolor": "#A2B1C6"
            },
            "type": "carpet"
           }
          ],
          "choropleth": [
           {
            "colorbar": {
             "outlinewidth": 0,
             "ticks": ""
            },
            "type": "choropleth"
           }
          ],
          "contour": [
           {
            "colorbar": {
             "outlinewidth": 0,
             "ticks": ""
            },
            "colorscale": [
             [
              0,
              "#0d0887"
             ],
             [
              0.1111111111111111,
              "#46039f"
             ],
             [
              0.2222222222222222,
              "#7201a8"
             ],
             [
              0.3333333333333333,
              "#9c179e"
             ],
             [
              0.4444444444444444,
              "#bd3786"
             ],
             [
              0.5555555555555556,
              "#d8576b"
             ],
             [
              0.6666666666666666,
              "#ed7953"
             ],
             [
              0.7777777777777778,
              "#fb9f3a"
             ],
             [
              0.8888888888888888,
              "#fdca26"
             ],
             [
              1,
              "#f0f921"
             ]
            ],
            "type": "contour"
           }
          ],
          "contourcarpet": [
           {
            "colorbar": {
             "outlinewidth": 0,
             "ticks": ""
            },
            "type": "contourcarpet"
           }
          ],
          "heatmap": [
           {
            "colorbar": {
             "outlinewidth": 0,
             "ticks": ""
            },
            "colorscale": [
             [
              0,
              "#0d0887"
             ],
             [
              0.1111111111111111,
              "#46039f"
             ],
             [
              0.2222222222222222,
              "#7201a8"
             ],
             [
              0.3333333333333333,
              "#9c179e"
             ],
             [
              0.4444444444444444,
              "#bd3786"
             ],
             [
              0.5555555555555556,
              "#d8576b"
             ],
             [
              0.6666666666666666,
              "#ed7953"
             ],
             [
              0.7777777777777778,
              "#fb9f3a"
             ],
             [
              0.8888888888888888,
              "#fdca26"
             ],
             [
              1,
              "#f0f921"
             ]
            ],
            "type": "heatmap"
           }
          ],
          "heatmapgl": [
           {
            "colorbar": {
             "outlinewidth": 0,
             "ticks": ""
            },
            "colorscale": [
             [
              0,
              "#0d0887"
             ],
             [
              0.1111111111111111,
              "#46039f"
             ],
             [
              0.2222222222222222,
              "#7201a8"
             ],
             [
              0.3333333333333333,
              "#9c179e"
             ],
             [
              0.4444444444444444,
              "#bd3786"
             ],
             [
              0.5555555555555556,
              "#d8576b"
             ],
             [
              0.6666666666666666,
              "#ed7953"
             ],
             [
              0.7777777777777778,
              "#fb9f3a"
             ],
             [
              0.8888888888888888,
              "#fdca26"
             ],
             [
              1,
              "#f0f921"
             ]
            ],
            "type": "heatmapgl"
           }
          ],
          "histogram": [
           {
            "marker": {
             "pattern": {
              "fillmode": "overlay",
              "size": 10,
              "solidity": 0.2
             }
            },
            "type": "histogram"
           }
          ],
          "histogram2d": [
           {
            "colorbar": {
             "outlinewidth": 0,
             "ticks": ""
            },
            "colorscale": [
             [
              0,
              "#0d0887"
             ],
             [
              0.1111111111111111,
              "#46039f"
             ],
             [
              0.2222222222222222,
              "#7201a8"
             ],
             [
              0.3333333333333333,
              "#9c179e"
             ],
             [
              0.4444444444444444,
              "#bd3786"
             ],
             [
              0.5555555555555556,
              "#d8576b"
             ],
             [
              0.6666666666666666,
              "#ed7953"
             ],
             [
              0.7777777777777778,
              "#fb9f3a"
             ],
             [
              0.8888888888888888,
              "#fdca26"
             ],
             [
              1,
              "#f0f921"
             ]
            ],
            "type": "histogram2d"
           }
          ],
          "histogram2dcontour": [
           {
            "colorbar": {
             "outlinewidth": 0,
             "ticks": ""
            },
            "colorscale": [
             [
              0,
              "#0d0887"
             ],
             [
              0.1111111111111111,
              "#46039f"
             ],
             [
              0.2222222222222222,
              "#7201a8"
             ],
             [
              0.3333333333333333,
              "#9c179e"
             ],
             [
              0.4444444444444444,
              "#bd3786"
             ],
             [
              0.5555555555555556,
              "#d8576b"
             ],
             [
              0.6666666666666666,
              "#ed7953"
             ],
             [
              0.7777777777777778,
              "#fb9f3a"
             ],
             [
              0.8888888888888888,
              "#fdca26"
             ],
             [
              1,
              "#f0f921"
             ]
            ],
            "type": "histogram2dcontour"
           }
          ],
          "mesh3d": [
           {
            "colorbar": {
             "outlinewidth": 0,
             "ticks": ""
            },
            "type": "mesh3d"
           }
          ],
          "parcoords": [
           {
            "line": {
             "colorbar": {
              "outlinewidth": 0,
              "ticks": ""
             }
            },
            "type": "parcoords"
           }
          ],
          "pie": [
           {
            "automargin": true,
            "type": "pie"
           }
          ],
          "scatter": [
           {
            "marker": {
             "line": {
              "color": "#283442"
             }
            },
            "type": "scatter"
           }
          ],
          "scatter3d": [
           {
            "line": {
             "colorbar": {
              "outlinewidth": 0,
              "ticks": ""
             }
            },
            "marker": {
             "colorbar": {
              "outlinewidth": 0,
              "ticks": ""
             }
            },
            "type": "scatter3d"
           }
          ],
          "scattercarpet": [
           {
            "marker": {
             "colorbar": {
              "outlinewidth": 0,
              "ticks": ""
             }
            },
            "type": "scattercarpet"
           }
          ],
          "scattergeo": [
           {
            "marker": {
             "colorbar": {
              "outlinewidth": 0,
              "ticks": ""
             }
            },
            "type": "scattergeo"
           }
          ],
          "scattergl": [
           {
            "marker": {
             "line": {
              "color": "#283442"
             }
            },
            "type": "scattergl"
           }
          ],
          "scattermapbox": [
           {
            "marker": {
             "colorbar": {
              "outlinewidth": 0,
              "ticks": ""
             }
            },
            "type": "scattermapbox"
           }
          ],
          "scatterpolar": [
           {
            "marker": {
             "colorbar": {
              "outlinewidth": 0,
              "ticks": ""
             }
            },
            "type": "scatterpolar"
           }
          ],
          "scatterpolargl": [
           {
            "marker": {
             "colorbar": {
              "outlinewidth": 0,
              "ticks": ""
             }
            },
            "type": "scatterpolargl"
           }
          ],
          "scatterternary": [
           {
            "marker": {
             "colorbar": {
              "outlinewidth": 0,
              "ticks": ""
             }
            },
            "type": "scatterternary"
           }
          ],
          "surface": [
           {
            "colorbar": {
             "outlinewidth": 0,
             "ticks": ""
            },
            "colorscale": [
             [
              0,
              "#0d0887"
             ],
             [
              0.1111111111111111,
              "#46039f"
             ],
             [
              0.2222222222222222,
              "#7201a8"
             ],
             [
              0.3333333333333333,
              "#9c179e"
             ],
             [
              0.4444444444444444,
              "#bd3786"
             ],
             [
              0.5555555555555556,
              "#d8576b"
             ],
             [
              0.6666666666666666,
              "#ed7953"
             ],
             [
              0.7777777777777778,
              "#fb9f3a"
             ],
             [
              0.8888888888888888,
              "#fdca26"
             ],
             [
              1,
              "#f0f921"
             ]
            ],
            "type": "surface"
           }
          ],
          "table": [
           {
            "cells": {
             "fill": {
              "color": "#506784"
             },
             "line": {
              "color": "rgb(17,17,17)"
             }
            },
            "header": {
             "fill": {
              "color": "#2a3f5f"
             },
             "line": {
              "color": "rgb(17,17,17)"
             }
            },
            "type": "table"
           }
          ]
         },
         "layout": {
          "annotationdefaults": {
           "arrowcolor": "#f2f5fa",
           "arrowhead": 0,
           "arrowwidth": 1
          },
          "autotypenumbers": "strict",
          "coloraxis": {
           "colorbar": {
            "outlinewidth": 0,
            "ticks": ""
           }
          },
          "colorscale": {
           "diverging": [
            [
             0,
             "#8e0152"
            ],
            [
             0.1,
             "#c51b7d"
            ],
            [
             0.2,
             "#de77ae"
            ],
            [
             0.3,
             "#f1b6da"
            ],
            [
             0.4,
             "#fde0ef"
            ],
            [
             0.5,
             "#f7f7f7"
            ],
            [
             0.6,
             "#e6f5d0"
            ],
            [
             0.7,
             "#b8e186"
            ],
            [
             0.8,
             "#7fbc41"
            ],
            [
             0.9,
             "#4d9221"
            ],
            [
             1,
             "#276419"
            ]
           ],
           "sequential": [
            [
             0,
             "#0d0887"
            ],
            [
             0.1111111111111111,
             "#46039f"
            ],
            [
             0.2222222222222222,
             "#7201a8"
            ],
            [
             0.3333333333333333,
             "#9c179e"
            ],
            [
             0.4444444444444444,
             "#bd3786"
            ],
            [
             0.5555555555555556,
             "#d8576b"
            ],
            [
             0.6666666666666666,
             "#ed7953"
            ],
            [
             0.7777777777777778,
             "#fb9f3a"
            ],
            [
             0.8888888888888888,
             "#fdca26"
            ],
            [
             1,
             "#f0f921"
            ]
           ],
           "sequentialminus": [
            [
             0,
             "#0d0887"
            ],
            [
             0.1111111111111111,
             "#46039f"
            ],
            [
             0.2222222222222222,
             "#7201a8"
            ],
            [
             0.3333333333333333,
             "#9c179e"
            ],
            [
             0.4444444444444444,
             "#bd3786"
            ],
            [
             0.5555555555555556,
             "#d8576b"
            ],
            [
             0.6666666666666666,
             "#ed7953"
            ],
            [
             0.7777777777777778,
             "#fb9f3a"
            ],
            [
             0.8888888888888888,
             "#fdca26"
            ],
            [
             1,
             "#f0f921"
            ]
           ]
          },
          "colorway": [
           "#636efa",
           "#EF553B",
           "#00cc96",
           "#ab63fa",
           "#FFA15A",
           "#19d3f3",
           "#FF6692",
           "#B6E880",
           "#FF97FF",
           "#FECB52"
          ],
          "font": {
           "color": "#f2f5fa"
          },
          "geo": {
           "bgcolor": "rgb(17,17,17)",
           "lakecolor": "rgb(17,17,17)",
           "landcolor": "rgb(17,17,17)",
           "showlakes": true,
           "showland": true,
           "subunitcolor": "#506784"
          },
          "hoverlabel": {
           "align": "left"
          },
          "hovermode": "closest",
          "mapbox": {
           "style": "dark"
          },
          "paper_bgcolor": "rgb(17,17,17)",
          "plot_bgcolor": "rgb(17,17,17)",
          "polar": {
           "angularaxis": {
            "gridcolor": "#506784",
            "linecolor": "#506784",
            "ticks": ""
           },
           "bgcolor": "rgb(17,17,17)",
           "radialaxis": {
            "gridcolor": "#506784",
            "linecolor": "#506784",
            "ticks": ""
           }
          },
          "scene": {
           "xaxis": {
            "backgroundcolor": "rgb(17,17,17)",
            "gridcolor": "#506784",
            "gridwidth": 2,
            "linecolor": "#506784",
            "showbackground": true,
            "ticks": "",
            "zerolinecolor": "#C8D4E3"
           },
           "yaxis": {
            "backgroundcolor": "rgb(17,17,17)",
            "gridcolor": "#506784",
            "gridwidth": 2,
            "linecolor": "#506784",
            "showbackground": true,
            "ticks": "",
            "zerolinecolor": "#C8D4E3"
           },
           "zaxis": {
            "backgroundcolor": "rgb(17,17,17)",
            "gridcolor": "#506784",
            "gridwidth": 2,
            "linecolor": "#506784",
            "showbackground": true,
            "ticks": "",
            "zerolinecolor": "#C8D4E3"
           }
          },
          "shapedefaults": {
           "line": {
            "color": "#f2f5fa"
           }
          },
          "sliderdefaults": {
           "bgcolor": "#C8D4E3",
           "bordercolor": "rgb(17,17,17)",
           "borderwidth": 1,
           "tickwidth": 0
          },
          "ternary": {
           "aaxis": {
            "gridcolor": "#506784",
            "linecolor": "#506784",
            "ticks": ""
           },
           "baxis": {
            "gridcolor": "#506784",
            "linecolor": "#506784",
            "ticks": ""
           },
           "bgcolor": "rgb(17,17,17)",
           "caxis": {
            "gridcolor": "#506784",
            "linecolor": "#506784",
            "ticks": ""
           }
          },
          "title": {
           "x": 0.05
          },
          "updatemenudefaults": {
           "bgcolor": "#506784",
           "borderwidth": 0
          },
          "xaxis": {
           "automargin": true,
           "gridcolor": "#283442",
           "linecolor": "#506784",
           "ticks": "",
           "title": {
            "standoff": 15
           },
           "zerolinecolor": "#283442",
           "zerolinewidth": 2
          },
          "yaxis": {
           "automargin": true,
           "gridcolor": "#283442",
           "linecolor": "#506784",
           "ticks": "",
           "title": {
            "standoff": 15
           },
           "zerolinecolor": "#283442",
           "zerolinewidth": 2
          }
         }
        },
        "title": {
         "text": "<b>RMSE dữ liệu kiểm thử của các mô hình</b>"
        },
        "width": 1200,
        "xaxis": {
         "anchor": "y",
         "domain": [
          0,
          1
         ],
         "title": {
          "text": "Mô hình"
         }
        },
        "yaxis": {
         "anchor": "x",
         "domain": [
          0,
          1
         ],
         "title": {
          "text": "RMSE (triệu VNĐ)"
         }
        }
       }
      }
     },
     "metadata": {},
     "output_type": "display_data"
    }
   ],
   "source": [
    "df_plot = result_test_df.iloc[[1]].transpose()\n",
    "df_plot.columns = ['RMSE']\n",
    "df_plot = df_plot.sort_values('RMSE', ascending=False)\n",
    "fig = px.bar(data_frame=df_plot, y='RMSE', color='RMSE', labels={\n",
    "             'RMSE': 'RMSE (triệu VNĐ)', 'index': 'Mô hình'}, title=\"<b>RMSE dữ liệu kiểm thử của các mô hình</b>\", template='plotly_dark')\n",
    "fig.update_layout(bargap=0.5, width=1200, height=500)\n",
    "fig.show()\n"
   ]
  },
  {
   "cell_type": "markdown",
   "metadata": {},
   "source": [
    "Gradiant Boost cho RMSE thấp nhất với dữ liệu kiểm thử được chuẩn hóa.\n"
   ]
  },
  {
   "cell_type": "markdown",
   "metadata": {},
   "source": [
    "Tìm bộ siêu tham số tốt nhất cho mô hình Gradient Boost với tập dữ liệu được chuẩn hóa bằng RandomizedSearchCV.\n"
   ]
  },
  {
   "cell_type": "code",
   "execution_count": 503,
   "metadata": {},
   "outputs": [],
   "source": [
    "param_grid = {\n",
    "    'n_estimators': [500, 700, 1000, 1200, 1500, 2000, 2200, 2500, 3000],\n",
    "    'max_depth': [None, 2, 3, 4, 5, 6, 7, 8],\n",
    "    'min_samples_split': [1, 2, 3, 4]\n",
    "}"
   ]
  },
  {
   "cell_type": "code",
   "execution_count": 504,
   "metadata": {},
   "outputs": [
    {
     "name": "stdout",
     "output_type": "stream",
     "text": [
      "Fitting 5 folds for each of 10 candidates, totalling 50 fits\n",
      "RMSE: 13207.262063172695\n",
      "Bộ siêu tham số tốt nhất: {'n_estimators': 500, 'min_samples_split': 3, 'max_depth': 3}\n",
      "RMSE của dữ liệu kiểm thử: 15285.104386066077\n",
      "RMSE cải thiện được: 251.98067928839737\n"
     ]
    }
   ],
   "source": [
    "gbr = GradientBoostingRegressor()\n",
    "\n",
    "rscv = RandomizedSearchCV(gbr, param_grid, verbose=1,\n",
    "                          refit=True, n_jobs=-1, cv=5, random_state=1, scoring='neg_root_mean_squared_error')\n",
    "rscv.fit(standard_x_train, standard_y_train)\n",
    "print(\"RMSE:\", str(-1 * rscv.best_score_))\n",
    "print(\"Bộ siêu tham số tốt nhất:\", rscv.best_params_)\n",
    "score = -1 * rscv.score(standard_x_test, standard_y_test)\n",
    "print(\"RMSE của dữ liệu kiểm thử:\", str(score))\n",
    "print(\"RMSE cải thiện được:\", str(result_test_df['GradientBoost'][1] - score))\n"
   ]
  },
  {
   "cell_type": "markdown",
   "metadata": {},
   "source": [
    "Dự đoán trong một trường hợp cụ thể (lấy random trong tập dữ liệu kiểm thử).\n"
   ]
  },
  {
   "cell_type": "code",
   "execution_count": 505,
   "metadata": {},
   "outputs": [
    {
     "data": {
      "text/plain": [
       "GradientBoostingRegressor(min_samples_split=3, n_estimators=500)"
      ]
     },
     "execution_count": 505,
     "metadata": {},
     "output_type": "execute_result"
    }
   ],
   "source": [
    "model_case = GradientBoostingRegressor(\n",
    "    n_estimators=rscv.best_params_['n_estimators'], \n",
    "    min_samples_split=rscv.best_params_['min_samples_split'], \n",
    "    max_depth=rscv.best_params_['max_depth']\n",
    ")\n",
    "model_case.fit(standard_x_train, standard_y_train)\n"
   ]
  },
  {
   "cell_type": "code",
   "execution_count": 507,
   "metadata": {},
   "outputs": [
    {
     "name": "stdout",
     "output_type": "stream",
     "text": [
      "Bất động sản được chọn là:\n"
     ]
    },
    {
     "data": {
      "text/html": [
       "<div>\n",
       "<style scoped>\n",
       "    .dataframe tbody tr th:only-of-type {\n",
       "        vertical-align: middle;\n",
       "    }\n",
       "\n",
       "    .dataframe tbody tr th {\n",
       "        vertical-align: top;\n",
       "    }\n",
       "\n",
       "    .dataframe thead th {\n",
       "        text-align: right;\n",
       "    }\n",
       "</style>\n",
       "<table border=\"1\" class=\"dataframe\">\n",
       "  <thead>\n",
       "    <tr style=\"text-align: right;\">\n",
       "      <th></th>\n",
       "      <th>Area</th>\n",
       "      <th>price_m2</th>\n",
       "      <th>district</th>\n",
       "      <th>estate</th>\n",
       "    </tr>\n",
       "  </thead>\n",
       "  <tbody>\n",
       "    <tr>\n",
       "      <th>1046</th>\n",
       "      <td>0.000738</td>\n",
       "      <td>0.071121</td>\n",
       "      <td>4</td>\n",
       "      <td>3</td>\n",
       "    </tr>\n",
       "  </tbody>\n",
       "</table>\n",
       "</div>"
      ],
      "text/plain": [
       "          Area  price_m2  district  estate\n",
       "1046  0.000738  0.071121         4       3"
      ]
     },
     "metadata": {},
     "output_type": "display_data"
    },
    {
     "name": "stdout",
     "output_type": "stream",
     "text": [
      "Giá của bất động sản này là: 2950.0\n",
      "Giá dự đoán của bất động sản này là: 2955.37\n"
     ]
    }
   ],
   "source": [
    "random_index = random.randint(0, standard_x_test.shape[0])\n",
    "row_selected = standard_x_test.iloc[[random_index]]\n",
    "x_case = row_selected.values.tolist()\n",
    "y_case = standard_y_test.iloc[[random_index]].values.tolist()[0]\n",
    "\n",
    "y_pred = model_case.predict(x_case)[0]\n",
    "\n",
    "print('Bất động sản được chọn là:')\n",
    "display(row_selected)\n",
    "print('Giá của bất động sản này là:', y_case)\n",
    "print('Giá dự đoán của bất động sản này là:', round(y_pred, 2))\n"
   ]
  }
 ],
 "metadata": {
  "kernelspec": {
   "display_name": "Python 3.10.2 64-bit",
   "language": "python",
   "name": "python3"
  },
  "language_info": {
   "codemirror_mode": {
    "name": "ipython",
    "version": 3
   },
   "file_extension": ".py",
   "mimetype": "text/x-python",
   "name": "python",
   "nbconvert_exporter": "python",
   "pygments_lexer": "ipython3",
   "version": "3.10.2"
  },
  "orig_nbformat": 4,
  "vscode": {
   "interpreter": {
    "hash": "83a8a37af132a2fa5bd73ffbd7034c1e5f9f9b0bef7ee17d2a911228df5d8f19"
   }
  }
 },
 "nbformat": 4,
 "nbformat_minor": 2
}
